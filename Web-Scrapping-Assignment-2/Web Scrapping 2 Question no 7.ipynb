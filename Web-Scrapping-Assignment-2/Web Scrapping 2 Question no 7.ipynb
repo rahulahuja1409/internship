{
 "cells": [
  {
   "cell_type": "markdown",
   "metadata": {},
   "source": [
    "# Q7: Scrape 100 reviews data from flipkart.com for iphone11 phone. You have to go the link: https://www.flipkart.com/apple-iphone-11-black-64-gb-includes\u0002earpods-power\u0002adapter/p/itm0f37c2240b217?pid=MOBFKCTSVZAXUHGR&lid=LSTMOBFKC\n",
    "TSVZAXUHGREPBFGI&marketplace.\n",
    "When you will open the above link you will reach to the below shown webpage\n",
    "\n",
    "As shown in the above page you have to scrape the tick marked attributes.\n",
    "These are \n",
    "1. Rating \n",
    "2. Review_summary \n",
    "3. Full review\n",
    "You have to scrape this data for first 100 reviews"
   ]
  },
  {
   "cell_type": "code",
   "execution_count": 44,
   "metadata": {},
   "outputs": [],
   "source": [
    "import selenium\n",
    "from selenium import webdriver"
   ]
  },
  {
   "cell_type": "code",
   "execution_count": 45,
   "metadata": {},
   "outputs": [],
   "source": [
    "driver=webdriver.Chrome(\"chromedriver1.exe\")\n",
    "url=\"https://www.flipkart.com/apple-iphone-11-black-64-gb-includes\u0002earpods-power\u0002adapter/p/itm0f37c2240b217?pid=MOBFKCTSVZAXUHGR&lid=LSTMOBFKC\"\n",
    "driver.get(url)"
   ]
  },
  {
   "cell_type": "code",
   "execution_count": 46,
   "metadata": {},
   "outputs": [],
   "source": [
    "review_button=driver.find_element_by_xpath(\"//div[@class='_3UAT2v _16PBlm']\")\n",
    "review_button.click()"
   ]
  },
  {
   "cell_type": "code",
   "execution_count": 47,
   "metadata": {},
   "outputs": [
    {
     "data": {
      "text/plain": [
       "['Brilliant',\n",
       " 'Simply awesome',\n",
       " 'Best in the market!',\n",
       " 'Perfect product!',\n",
       " 'Fabulous!',\n",
       " 'Worth every penny',\n",
       " 'Great product',\n",
       " 'Good choice',\n",
       " 'Worth every penny',\n",
       " 'Highly recommended']"
      ]
     },
     "execution_count": 47,
     "metadata": {},
     "output_type": "execute_result"
    }
   ],
   "source": [
    "ratings1=driver.find_elements_by_xpath(\"//div[@class='_3LWZlK _1BLPMq']\")\n",
    "ratings1\n",
    "ratings2=[]\n",
    "\n",
    "for i in ratings1:\n",
    "    ratings2.append(i.text)\n",
    "ratings2\n",
    "\n",
    "review1=driver.find_elements_by_xpath(\"//p[@class='_2-N8zT']\")\n",
    "review1\n",
    "review2=[]\n",
    "\n",
    "for i in review1:\n",
    "    review2.append(i.text)\n",
    "review2\n",
    "\n",
    "Full_review1=driver.find_elements_by_xpath(\"//div[@class='t-ZTKy']\")\n",
    "Full_review1\n",
    "Full_review2=[]\n",
    "\n",
    "for i in Full_review1:\n",
    "    Full_review2.append(i.text)\n",
    "Full_review2\n",
    "ratings2\n",
    "review2"
   ]
  },
  {
   "cell_type": "code",
   "execution_count": 48,
   "metadata": {},
   "outputs": [],
   "source": [
    "next_button=driver.find_element_by_xpath('//nav/a[@class=\"_1LKTO3\" ]/span[text() = \"Next\"]')\n",
    "next_button.click()"
   ]
  },
  {
   "cell_type": "code",
   "execution_count": 84,
   "metadata": {},
   "outputs": [
    {
     "data": {
      "text/plain": [
       "['5', '5', '5', '5', '5', '5', '5', '5', '5', '5']"
      ]
     },
     "execution_count": 84,
     "metadata": {},
     "output_type": "execute_result"
    }
   ],
   "source": [
    "ratings3=driver.find_elements_by_xpath(\"//div[@class='_3LWZlK _1BLPMq']\")\n",
    "ratings4=[]\n",
    "\n",
    "for i in ratings3:\n",
    "    ratings4.append(i.text)\n",
    "\n",
    "review3=driver.find_elements_by_xpath(\"//p[@class='_2-N8zT']\")\n",
    "review4=[]\n",
    "\n",
    "for i in review3:\n",
    "    review4.append(i.text)\n",
    "\n",
    "Full_review3=driver.find_elements_by_xpath(\"//div[@class='t-ZTKy']\")\n",
    "Full_review4=[]\n",
    "\n",
    "for i in Full_review3:\n",
    "    Full_review4.append(i.text)\n",
    "ratings4"
   ]
  },
  {
   "cell_type": "code",
   "execution_count": 52,
   "metadata": {},
   "outputs": [],
   "source": [
    "next_button=driver.find_element_by_xpath('//nav/a[@class=\"_1LKTO3\" ]/span[text() = \"Next\"]')\n",
    "next_button.click()"
   ]
  },
  {
   "cell_type": "code",
   "execution_count": 53,
   "metadata": {},
   "outputs": [
    {
     "data": {
      "text/plain": [
       "['Worth every penny',\n",
       " 'Wonderful',\n",
       " 'Nice product',\n",
       " 'Classy product',\n",
       " 'Perfect product!',\n",
       " 'Brilliant',\n",
       " 'Must buy!',\n",
       " 'Good choice',\n",
       " 'Wonderful',\n",
       " 'Perfect product!']"
      ]
     },
     "execution_count": 53,
     "metadata": {},
     "output_type": "execute_result"
    }
   ],
   "source": [
    "ratings5=driver.find_elements_by_xpath(\"//div[@class='_3LWZlK _1BLPMq']\")\n",
    "ratings6=[]\n",
    "\n",
    "for i in ratings5:\n",
    "    ratings6.append(i.text)\n",
    "\n",
    "review5=driver.find_elements_by_xpath(\"//p[@class='_2-N8zT']\")\n",
    "review6=[]\n",
    "\n",
    "for i in review5:\n",
    "    review6.append(i.text)\n",
    "\n",
    "Full_review5=driver.find_elements_by_xpath(\"//div[@class='t-ZTKy']\")\n",
    "Full_review6=[]\n",
    "\n",
    "for i in Full_review5:\n",
    "    Full_review6.append(i.text)\n",
    "review6"
   ]
  },
  {
   "cell_type": "code",
   "execution_count": 54,
   "metadata": {},
   "outputs": [],
   "source": [
    "next_button=driver.find_element_by_xpath('//nav/a[@class=\"_1LKTO3\" ]/span[text() = \"Next\"]')\n",
    "next_button.click()"
   ]
  },
  {
   "cell_type": "code",
   "execution_count": 85,
   "metadata": {},
   "outputs": [
    {
     "data": {
      "text/plain": [
       "['5', '5', '5', '5', '5', '5', '5', '5', '5', '5']"
      ]
     },
     "execution_count": 85,
     "metadata": {},
     "output_type": "execute_result"
    }
   ],
   "source": [
    "ratings7=driver.find_elements_by_xpath(\"//div[@class='_3LWZlK _1BLPMq']\")\n",
    "ratings8=[]\n",
    "\n",
    "for i in ratings7:\n",
    "    ratings8.append(i.text)\n",
    "\n",
    "review7=driver.find_elements_by_xpath(\"//p[@class='_2-N8zT']\")\n",
    "review8=[]\n",
    "\n",
    "for i in review7:\n",
    "    review8.append(i.text)\n",
    "\n",
    "Full_review7=driver.find_elements_by_xpath(\"//div[@class='t-ZTKy']\")\n",
    "Full_review8=[]\n",
    "\n",
    "for i in Full_review7:\n",
    "    Full_review8.append(i.text)\n",
    "ratings8"
   ]
  },
  {
   "cell_type": "code",
   "execution_count": 56,
   "metadata": {},
   "outputs": [],
   "source": [
    "next_button=driver.find_element_by_xpath('//nav/a[@class=\"_1LKTO3\" ]/span[text() = \"Next\"]')\n",
    "next_button.click()"
   ]
  },
  {
   "cell_type": "code",
   "execution_count": 57,
   "metadata": {},
   "outputs": [
    {
     "data": {
      "text/plain": [
       "['Perfect product!',\n",
       " 'Must buy!',\n",
       " 'Fabulous!',\n",
       " 'Mind-blowing purchase',\n",
       " 'Mind-blowing purchase',\n",
       " 'Wonderful',\n",
       " 'Great product',\n",
       " 'Very Good',\n",
       " 'Classy product',\n",
       " 'Perfect product!']"
      ]
     },
     "execution_count": 57,
     "metadata": {},
     "output_type": "execute_result"
    }
   ],
   "source": [
    "ratings9=driver.find_elements_by_xpath(\"//div[@class='_3LWZlK _1BLPMq']\")\n",
    "ratings10=[]\n",
    "\n",
    "for i in ratings9:\n",
    "    ratings10.append(i.text)\n",
    "\n",
    "review9=driver.find_elements_by_xpath(\"//p[@class='_2-N8zT']\")\n",
    "review10=[]\n",
    "\n",
    "for i in review9:\n",
    "    review10.append(i.text)\n",
    "\n",
    "Full_review9=driver.find_elements_by_xpath(\"//div[@class='t-ZTKy']\")\n",
    "Full_review10=[]\n",
    "\n",
    "for i in Full_review9:\n",
    "    Full_review10.append(i.text)\n",
    "review10    "
   ]
  },
  {
   "cell_type": "code",
   "execution_count": 58,
   "metadata": {},
   "outputs": [],
   "source": [
    "next_button=driver.find_element_by_xpath('//nav/a[@class=\"_1LKTO3\" ]/span[text() = \"Next\"]')\n",
    "next_button.click()"
   ]
  },
  {
   "cell_type": "code",
   "execution_count": 59,
   "metadata": {},
   "outputs": [
    {
     "data": {
      "text/plain": [
       "['Just wow!',\n",
       " 'Awesome',\n",
       " 'Terrific',\n",
       " 'Pretty good',\n",
       " 'Terrific purchase',\n",
       " 'Awesome',\n",
       " 'Classy product',\n",
       " 'Brilliant',\n",
       " 'Terrific',\n",
       " 'Perfect product!']"
      ]
     },
     "execution_count": 59,
     "metadata": {},
     "output_type": "execute_result"
    }
   ],
   "source": [
    "ratings11=driver.find_elements_by_xpath(\"//div[@class='_3LWZlK _1BLPMq']\")\n",
    "ratings12=[]\n",
    "\n",
    "for i in ratings11:\n",
    "    ratings12.append(i.text)\n",
    "\n",
    "review11=driver.find_elements_by_xpath(\"//p[@class='_2-N8zT']\")\n",
    "review12=[]\n",
    "\n",
    "for i in review11:\n",
    "    review12.append(i.text)\n",
    "\n",
    "Full_review11=driver.find_elements_by_xpath(\"//div[@class='t-ZTKy']\")\n",
    "Full_review12=[]\n",
    "\n",
    "for i in Full_review11:\n",
    "    Full_review12.append(i.text)\n",
    "review12"
   ]
  },
  {
   "cell_type": "code",
   "execution_count": 60,
   "metadata": {},
   "outputs": [],
   "source": [
    "next_button=driver.find_element_by_xpath('//nav/a[@class=\"_1LKTO3\" ]/span[text() = \"Next\"]')\n",
    "next_button.click()"
   ]
  },
  {
   "cell_type": "code",
   "execution_count": 103,
   "metadata": {},
   "outputs": [
    {
     "data": {
      "text/plain": [
       "['5', '5', '1', '5', '5', '5', '4', '5', '5', '5']"
      ]
     },
     "execution_count": 103,
     "metadata": {},
     "output_type": "execute_result"
    }
   ],
   "source": [
    "ratings13=driver.find_elements_by_xpath('.//div[contains(@class,\"_3LWZlK _\")]')\n",
    "ratings14=[]\n",
    "\n",
    "for i in ratings13:\n",
    "    ratings14.append(i.text)\n",
    "review13=driver.find_elements_by_xpath(\"//p[@class='_2-N8zT']\")\n",
    "review14=[]\n",
    "\n",
    "for i in review13:\n",
    "    review14.append(i.text)\n",
    "\n",
    "Full_review13=driver.find_elements_by_xpath(\"//div[@class='t-ZTKy']\")\n",
    "Full_review14=[]\n",
    "\n",
    "for i in Full_review13:\n",
    "    Full_review14.append(i.text)\n",
    "ratings14"
   ]
  },
  {
   "cell_type": "code",
   "execution_count": 62,
   "metadata": {},
   "outputs": [],
   "source": [
    "next_button=driver.find_element_by_xpath('//nav/a[@class=\"_1LKTO3\" ]/span[text() = \"Next\"]')\n",
    "next_button.click()"
   ]
  },
  {
   "cell_type": "code",
   "execution_count": 63,
   "metadata": {},
   "outputs": [
    {
     "data": {
      "text/plain": [
       "['Good quality product',\n",
       " 'Best in the market!',\n",
       " 'Perfect product!',\n",
       " 'Awesome',\n",
       " 'Value-for-money',\n",
       " 'Just wow!',\n",
       " 'Super!',\n",
       " 'Classy product',\n",
       " 'Must buy!',\n",
       " 'Mind-blowing purchase']"
      ]
     },
     "execution_count": 63,
     "metadata": {},
     "output_type": "execute_result"
    }
   ],
   "source": [
    "ratings15=driver.find_elements_by_xpath(\"//div[@class='_3LWZlK _1BLPMq']\")\n",
    "ratings16=[]\n",
    "\n",
    "for i in ratings15:\n",
    "    ratings16.append(i.text)\n",
    "\n",
    "review15=driver.find_elements_by_xpath(\"//p[@class='_2-N8zT']\")\n",
    "review16=[]\n",
    "\n",
    "for i in review15:\n",
    "    review16.append(i.text)\n",
    "\n",
    "Full_review15=driver.find_elements_by_xpath(\"//div[@class='t-ZTKy']\")\n",
    "Full_review16=[]\n",
    "\n",
    "for i in Full_review15:\n",
    "    Full_review16.append(i.text)\n",
    "review16"
   ]
  },
  {
   "cell_type": "code",
   "execution_count": 64,
   "metadata": {},
   "outputs": [],
   "source": [
    "next_button=driver.find_element_by_xpath('//nav/a[@class=\"_1LKTO3\" ]/span[text() = \"Next\"]')\n",
    "next_button.click()"
   ]
  },
  {
   "cell_type": "code",
   "execution_count": 65,
   "metadata": {},
   "outputs": [
    {
     "data": {
      "text/plain": [
       "['Terrific',\n",
       " 'Wonderful',\n",
       " 'Excellent',\n",
       " 'Excellent',\n",
       " 'Nice product',\n",
       " 'Mind-blowing purchase',\n",
       " 'Highly recommended',\n",
       " 'Pretty good',\n",
       " 'Wonderful',\n",
       " 'Worth every penny']"
      ]
     },
     "execution_count": 65,
     "metadata": {},
     "output_type": "execute_result"
    }
   ],
   "source": [
    "ratings17=driver.find_elements_by_xpath(\"//div[@class='_3LWZlK _1BLPMq']\")\n",
    "ratings18=[]\n",
    "\n",
    "for i in ratings17:\n",
    "    ratings18.append(i.text)\n",
    "\n",
    "review17=driver.find_elements_by_xpath(\"//p[@class='_2-N8zT']\")\n",
    "review18=[]\n",
    "\n",
    "for i in review17:\n",
    "    review18.append(i.text)\n",
    "\n",
    "Full_review17=driver.find_elements_by_xpath(\"//div[@class='t-ZTKy']\")\n",
    "Full_review18=[]\n",
    "\n",
    "for i in Full_review17:\n",
    "    Full_review18.append(i.text)\n",
    "review18"
   ]
  },
  {
   "cell_type": "code",
   "execution_count": 66,
   "metadata": {},
   "outputs": [],
   "source": [
    "next_button=driver.find_element_by_xpath('//nav/a[@class=\"_1LKTO3\" ]/span[text() = \"Next\"]')\n",
    "next_button.click()"
   ]
  },
  {
   "cell_type": "code",
   "execution_count": 67,
   "metadata": {},
   "outputs": [
    {
     "data": {
      "text/plain": [
       "['Fabulous!',\n",
       " 'Mind-blowing purchase',\n",
       " 'Excellent',\n",
       " 'Super!',\n",
       " 'Fabulous!',\n",
       " 'Just wow!',\n",
       " 'Terrific purchase',\n",
       " 'Awesome',\n",
       " 'Decent product',\n",
       " 'Awesome']"
      ]
     },
     "execution_count": 67,
     "metadata": {},
     "output_type": "execute_result"
    }
   ],
   "source": [
    "ratings19=driver.find_elements_by_xpath(\"//div[@class='_3LWZlK _1BLPMq']\")\n",
    "ratings20=[]\n",
    "\n",
    "for i in ratings19:\n",
    "    ratings20.append(i.text)\n",
    "\n",
    "review19=driver.find_elements_by_xpath(\"//p[@class='_2-N8zT']\")\n",
    "review20=[]\n",
    "\n",
    "for i in review19:\n",
    "    review20.append(i.text)\n",
    "\n",
    "Full_review19=driver.find_elements_by_xpath(\"//div[@class='t-ZTKy']\")\n",
    "Full_review20=[]\n",
    "\n",
    "for i in Full_review19:\n",
    "    Full_review20.append(i.text)\n",
    "review20"
   ]
  },
  {
   "cell_type": "code",
   "execution_count": 107,
   "metadata": {},
   "outputs": [
    {
     "data": {
      "text/plain": [
       "100"
      ]
     },
     "execution_count": 107,
     "metadata": {},
     "output_type": "execute_result"
    }
   ],
   "source": [
    "ratings=ratings2+ratings4+ratings6+ratings8+ratings10+ratings12+ratings14+ratings16+ratings18+ratings20\n",
    "len(ratings)"
   ]
  },
  {
   "cell_type": "code",
   "execution_count": 108,
   "metadata": {},
   "outputs": [
    {
     "data": {
      "text/plain": [
       "100"
      ]
     },
     "execution_count": 108,
     "metadata": {},
     "output_type": "execute_result"
    }
   ],
   "source": [
    "review=review2+review4+review6+review8+review10+review12+review14+review16+review18+review20\n",
    "len(review)"
   ]
  },
  {
   "cell_type": "code",
   "execution_count": 109,
   "metadata": {},
   "outputs": [
    {
     "data": {
      "text/plain": [
       "100"
      ]
     },
     "execution_count": 109,
     "metadata": {},
     "output_type": "execute_result"
    }
   ],
   "source": [
    "Full_review=Full_review2+Full_review4+Full_review6+Full_review8+Full_review10+Full_review12+Full_review14+Full_review16+Full_review18+Full_review20\n",
    "len(Full_review)"
   ]
  },
  {
   "cell_type": "code",
   "execution_count": 110,
   "metadata": {},
   "outputs": [
    {
     "data": {
      "text/html": [
       "<div>\n",
       "<style scoped>\n",
       "    .dataframe tbody tr th:only-of-type {\n",
       "        vertical-align: middle;\n",
       "    }\n",
       "\n",
       "    .dataframe tbody tr th {\n",
       "        vertical-align: top;\n",
       "    }\n",
       "\n",
       "    .dataframe thead th {\n",
       "        text-align: right;\n",
       "    }\n",
       "</style>\n",
       "<table border=\"1\" class=\"dataframe\">\n",
       "  <thead>\n",
       "    <tr style=\"text-align: right;\">\n",
       "      <th></th>\n",
       "      <th>Ratings</th>\n",
       "      <th>Review</th>\n",
       "      <th>Full_Review</th>\n",
       "    </tr>\n",
       "  </thead>\n",
       "  <tbody>\n",
       "    <tr>\n",
       "      <th>0</th>\n",
       "      <td>5</td>\n",
       "      <td>Brilliant</td>\n",
       "      <td>The Best Phone for the Money\\n\\nThe iPhone 11 ...</td>\n",
       "    </tr>\n",
       "    <tr>\n",
       "      <th>1</th>\n",
       "      <td>5</td>\n",
       "      <td>Simply awesome</td>\n",
       "      <td>Really satisfied with the Product I received.....</td>\n",
       "    </tr>\n",
       "    <tr>\n",
       "      <th>2</th>\n",
       "      <td>5</td>\n",
       "      <td>Best in the market!</td>\n",
       "      <td>Great iPhone very snappy experience as apple k...</td>\n",
       "    </tr>\n",
       "    <tr>\n",
       "      <th>3</th>\n",
       "      <td>5</td>\n",
       "      <td>Perfect product!</td>\n",
       "      <td>Amazing phone with great cameras and better ba...</td>\n",
       "    </tr>\n",
       "    <tr>\n",
       "      <th>4</th>\n",
       "      <td>5</td>\n",
       "      <td>Fabulous!</td>\n",
       "      <td>This is my first iOS phone. I am very happy wi...</td>\n",
       "    </tr>\n",
       "    <tr>\n",
       "      <th>...</th>\n",
       "      <td>...</td>\n",
       "      <td>...</td>\n",
       "      <td>...</td>\n",
       "    </tr>\n",
       "    <tr>\n",
       "      <th>95</th>\n",
       "      <td>5</td>\n",
       "      <td>Just wow!</td>\n",
       "      <td>The ultimate performance\\nCamera is superb\\nTh...</td>\n",
       "    </tr>\n",
       "    <tr>\n",
       "      <th>96</th>\n",
       "      <td>5</td>\n",
       "      <td>Terrific purchase</td>\n",
       "      <td>I use a Note10+ and have been using both iOS a...</td>\n",
       "    </tr>\n",
       "    <tr>\n",
       "      <th>97</th>\n",
       "      <td>5</td>\n",
       "      <td>Awesome</td>\n",
       "      <td>The phone is completely good\\nAs far as camera...</td>\n",
       "    </tr>\n",
       "    <tr>\n",
       "      <th>98</th>\n",
       "      <td>3</td>\n",
       "      <td>Decent product</td>\n",
       "      <td>Everything u ll like it when u use this iPhone...</td>\n",
       "    </tr>\n",
       "    <tr>\n",
       "      <th>99</th>\n",
       "      <td>5</td>\n",
       "      <td>Awesome</td>\n",
       "      <td>Can’t beat the software and hardware integrati...</td>\n",
       "    </tr>\n",
       "  </tbody>\n",
       "</table>\n",
       "<p>100 rows × 3 columns</p>\n",
       "</div>"
      ],
      "text/plain": [
       "   Ratings               Review  \\\n",
       "0        5            Brilliant   \n",
       "1        5       Simply awesome   \n",
       "2        5  Best in the market!   \n",
       "3        5     Perfect product!   \n",
       "4        5            Fabulous!   \n",
       "..     ...                  ...   \n",
       "95       5            Just wow!   \n",
       "96       5    Terrific purchase   \n",
       "97       5              Awesome   \n",
       "98       3       Decent product   \n",
       "99       5              Awesome   \n",
       "\n",
       "                                          Full_Review  \n",
       "0   The Best Phone for the Money\\n\\nThe iPhone 11 ...  \n",
       "1   Really satisfied with the Product I received.....  \n",
       "2   Great iPhone very snappy experience as apple k...  \n",
       "3   Amazing phone with great cameras and better ba...  \n",
       "4   This is my first iOS phone. I am very happy wi...  \n",
       "..                                                ...  \n",
       "95  The ultimate performance\\nCamera is superb\\nTh...  \n",
       "96  I use a Note10+ and have been using both iOS a...  \n",
       "97  The phone is completely good\\nAs far as camera...  \n",
       "98  Everything u ll like it when u use this iPhone...  \n",
       "99  Can’t beat the software and hardware integrati...  \n",
       "\n",
       "[100 rows x 3 columns]"
      ]
     },
     "execution_count": 110,
     "metadata": {},
     "output_type": "execute_result"
    }
   ],
   "source": [
    "import pandas as pd\n",
    "apple=pd.DataFrame({})\n",
    "apple[\"Ratings\"]=ratings\n",
    "apple[\"Review\"]=review\n",
    "apple[\"Full_Review\"]=Full_review\n",
    "apple"
   ]
  },
  {
   "cell_type": "code",
   "execution_count": null,
   "metadata": {},
   "outputs": [],
   "source": []
  }
 ],
 "metadata": {
  "kernelspec": {
   "display_name": "Python 3",
   "language": "python",
   "name": "python3"
  },
  "language_info": {
   "codemirror_mode": {
    "name": "ipython",
    "version": 3
   },
   "file_extension": ".py",
   "mimetype": "text/x-python",
   "name": "python",
   "nbconvert_exporter": "python",
   "pygments_lexer": "ipython3",
   "version": "3.8.5"
  }
 },
 "nbformat": 4,
 "nbformat_minor": 4
}
