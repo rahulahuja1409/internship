{
 "cells": [
  {
   "cell_type": "markdown",
   "metadata": {},
   "source": [
    "# Q5: Write a python program to scrape the salary data for Data Scientist designation in Noida location.You have to scrape Company name, Number of salaries, Average salary, Minsalary, Max Salary.\n",
    "The above task will be, done as shown in the below steps:\n",
    "1. first get the webpage https://www.glassdoor.co.in/Salaries/index.htm\n",
    "2. Enter “Data Scientist” in Job title field and “Noida” in location field.\n",
    "3. Click the search button.\n",
    "4. After that you will land on the below page\n",
    "You have to scrape whole data from this webpage\n",
    "5. Scrape data for first 10 companies. Scrape the min salary, max salary, company \n",
    "name, Average salary and rating of the company.\n",
    "6.Store the data in a dataframe.\n",
    "Note that all of the above steps have to be done by coding only and not manually"
   ]
  },
  {
   "cell_type": "code",
   "execution_count": 10,
   "metadata": {},
   "outputs": [],
   "source": [
    "import selenium\n",
    "import pandas as pd\n",
    "from selenium import webdriver\n",
    "driver=webdriver.Chrome(\"chromedriver1.exe\")"
   ]
  },
  {
   "cell_type": "code",
   "execution_count": 11,
   "metadata": {},
   "outputs": [],
   "source": [
    "url=\"https://www.glassdoor.co.in/Salaries/index.htm\"\n",
    "driver.get(url)"
   ]
  },
  {
   "cell_type": "code",
   "execution_count": 12,
   "metadata": {},
   "outputs": [
    {
     "data": {
      "text/plain": [
       "<selenium.webdriver.remote.webelement.WebElement (session=\"24e748cd90ea1319b42b1d9286202414\", element=\"e2d28ce5-e8ff-49ad-a642-ce8b054d83e5\")>"
      ]
     },
     "execution_count": 12,
     "metadata": {},
     "output_type": "execute_result"
    }
   ],
   "source": [
    "search_job=driver.find_element_by_xpath(\"//input[@id='KeywordSearch']\")\n",
    "search_job"
   ]
  },
  {
   "cell_type": "code",
   "execution_count": 13,
   "metadata": {},
   "outputs": [],
   "source": [
    "search_job.send_keys(\"Data Scientist\")"
   ]
  },
  {
   "cell_type": "code",
   "execution_count": 14,
   "metadata": {},
   "outputs": [],
   "source": [
    "search_Loc=driver.find_element_by_xpath(\"//input[@id='LocationSearch']\")\n",
    "search_Loc\n",
    "search_Loc.send_keys(\"Noida\")"
   ]
  },
  {
   "cell_type": "code",
   "execution_count": 15,
   "metadata": {},
   "outputs": [],
   "source": [
    "search_btn=driver.find_element_by_xpath(\"//button[@class='gd-btn-mkt']\")\n",
    "search_btn.click()"
   ]
  },
  {
   "cell_type": "code",
   "execution_count": 20,
   "metadata": {},
   "outputs": [
    {
     "data": {
      "text/plain": [
       "['Tata Consultancy Services',\n",
       " 'IBM',\n",
       " 'Accenture',\n",
       " 'Delhivery',\n",
       " 'Ericsson-Worldwide',\n",
       " 'UnitedHealth Group',\n",
       " 'Optum',\n",
       " 'Optum Global Solutions',\n",
       " 'Valiance Solutions',\n",
       " 'EXL Service',\n",
       " 'Cognizant Technology Solutions',\n",
       " 'ZS Associates',\n",
       " 'Nagarro',\n",
       " 'Innovaccer',\n",
       " 'OYO',\n",
       " 'dunnhumby',\n",
       " 'Amazon',\n",
       " 'Fresher',\n",
       " 'CARS24.com',\n",
       " 'Vidooly Media Tech']"
      ]
     },
     "execution_count": 20,
     "metadata": {},
     "output_type": "execute_result"
    }
   ],
   "source": [
    "company_name1=driver.find_elements_by_xpath(\"//a[@class='css-f3vw95 e1aj7ssy3']\")\n",
    "company_name1\n",
    "\n",
    "company_name2=[]\n",
    "\n",
    "for i in company_name1:\n",
    "    company_name2.append(i.text)\n",
    "company_name2"
   ]
  },
  {
   "cell_type": "code",
   "execution_count": 79,
   "metadata": {},
   "outputs": [
    {
     "data": {
      "text/plain": [
       "['22 salaries',\n",
       " '20 salaries',\n",
       " '15 salaries',\n",
       " '15 salaries',\n",
       " '14 salaries',\n",
       " '14 salaries',\n",
       " '11 salaries',\n",
       " '10 salaries',\n",
       " '10 salaries',\n",
       " '9 salaries',\n",
       " '8 salaries',\n",
       " '8 salaries',\n",
       " '8 salaries',\n",
       " '8 salaries',\n",
       " '7 salaries',\n",
       " '7 salaries',\n",
       " '6 salaries',\n",
       " '6 salaries',\n",
       " '6 salaries',\n",
       " '6 salaries']"
      ]
     },
     "execution_count": 79,
     "metadata": {},
     "output_type": "execute_result"
    }
   ],
   "source": [
    "Nos=driver.find_elements_by_xpath(\"//div[@class='col-12 col-lg-auto']\")\n",
    "Nos\n",
    "\n",
    "Nos2=[]\n",
    "\n",
    "for i in Nos:\n",
    "    Nos2.append(i.text)\n",
    "Nos2"
   ]
  },
  {
   "cell_type": "code",
   "execution_count": 24,
   "metadata": {},
   "outputs": [
    {
     "data": {
      "text/plain": [
       "['₹6,28,021  /yr',\n",
       " '₹9,08,246  /yr',\n",
       " '₹11,93,390  /yr',\n",
       " '₹12,49,716  /yr',\n",
       " '₹7,58,335  /yr',\n",
       " '₹12,80,000  /yr',\n",
       " '₹12,70,000  /yr',\n",
       " '₹14,55,430  /yr',\n",
       " '₹8,86,064  /yr',\n",
       " '₹11,10,000  /yr',\n",
       " '₹9,62,227  /yr',\n",
       " '₹11,71,868  /yr',\n",
       " '₹11,01,815  /yr',\n",
       " '₹12,40,275  /yr',\n",
       " '₹14,51,902  /yr',\n",
       " '₹11,30,374  /yr',\n",
       " '₹20,63,782  /yr',\n",
       " '₹61,566  /mo',\n",
       " '₹10,80,727  /yr',\n",
       " '₹35,040  /mo']"
      ]
     },
     "execution_count": 24,
     "metadata": {},
     "output_type": "execute_result"
    }
   ],
   "source": [
    "Average=driver.find_elements_by_xpath(\"//div[@class='col-12 col-lg-4 px-lg-0 d-flex align-items-baseline']\")\n",
    "\n",
    "Average_Salary=[]\n",
    "\n",
    "for i in Average:\n",
    "    Average_Salary.append(i.text.replace(\"\\n\",\" \"))\n",
    "Average_Salary"
   ]
  },
  {
   "cell_type": "code",
   "execution_count": 72,
   "metadata": {},
   "outputs": [
    {
     "data": {
      "text/plain": [
       "['₹4L', '₹1L', '₹6L', '₹5L', '₹4L', '₹8L', '₹8L', '₹10L', '₹5L', '₹6L']"
      ]
     },
     "execution_count": 72,
     "metadata": {},
     "output_type": "execute_result"
    }
   ],
   "source": [
    "minimum=driver.find_elements_by_xpath(\"//p[@class='m-0 css-1vkj9it'][1]\")\n",
    "minimum\n",
    "minimum_Salary=[]\n",
    "\n",
    "for i in minimum:\n",
    "    minimum_Salary.append(i.text.replace(\"\\n\",\" \").strip())\n",
    "minimum_Salary\n",
    "minimum_Salary1=minimum_Salary[16:]\n",
    "minimum_Salary1\n",
    "\n",
    "minimum_Salary2=[]\n",
    "for j in range(0,len(minimum_Salary1),2):\n",
    "    minimum_Salary2.append(minimum_Salary1[j])\n",
    "minimum_Salary2[0:10]"
   ]
  },
  {
   "cell_type": "code",
   "execution_count": 80,
   "metadata": {},
   "outputs": [
    {
     "data": {
      "text/plain": [
       "['₹28L',\n",
       " '₹23L',\n",
       " '₹1Cr',\n",
       " '₹17L',\n",
       " '₹16L',\n",
       " '₹20L',\n",
       " '₹18L',\n",
       " '₹15L',\n",
       " '₹16L',\n",
       " '₹13L']"
      ]
     },
     "execution_count": 80,
     "metadata": {},
     "output_type": "execute_result"
    }
   ],
   "source": [
    "Maximum=driver.find_elements_by_xpath(\"//p[@class='m-0 css-1vkj9it'][2]\")\n",
    "Maximum\n",
    "Maximum_Salary=[]\n",
    "\n",
    "for i in Maximum:\n",
    "    Maximum_Salary.append(i.text.replace(\"\\n\",\" \").strip())\n",
    "Maximum_Salary\n",
    "Maximum_Salary1=Maximum_Salary[4:14]\n",
    "Maximum_Salary1"
   ]
  },
  {
   "cell_type": "code",
   "execution_count": 83,
   "metadata": {},
   "outputs": [
    {
     "data": {
      "text/html": [
       "<div>\n",
       "<style scoped>\n",
       "    .dataframe tbody tr th:only-of-type {\n",
       "        vertical-align: middle;\n",
       "    }\n",
       "\n",
       "    .dataframe tbody tr th {\n",
       "        vertical-align: top;\n",
       "    }\n",
       "\n",
       "    .dataframe thead th {\n",
       "        text-align: right;\n",
       "    }\n",
       "</style>\n",
       "<table border=\"1\" class=\"dataframe\">\n",
       "  <thead>\n",
       "    <tr style=\"text-align: right;\">\n",
       "      <th></th>\n",
       "      <th>Company name</th>\n",
       "      <th>Number of salaries</th>\n",
       "      <th>Average salary</th>\n",
       "      <th>Min-salary</th>\n",
       "      <th>Max-Salary</th>\n",
       "    </tr>\n",
       "  </thead>\n",
       "  <tbody>\n",
       "    <tr>\n",
       "      <th>0</th>\n",
       "      <td>Tata Consultancy Services</td>\n",
       "      <td>22 salaries</td>\n",
       "      <td>₹6,28,021  /yr</td>\n",
       "      <td>₹4L</td>\n",
       "      <td>₹28L</td>\n",
       "    </tr>\n",
       "    <tr>\n",
       "      <th>1</th>\n",
       "      <td>IBM</td>\n",
       "      <td>20 salaries</td>\n",
       "      <td>₹9,08,246  /yr</td>\n",
       "      <td>₹1L</td>\n",
       "      <td>₹23L</td>\n",
       "    </tr>\n",
       "    <tr>\n",
       "      <th>2</th>\n",
       "      <td>Accenture</td>\n",
       "      <td>15 salaries</td>\n",
       "      <td>₹11,93,390  /yr</td>\n",
       "      <td>₹6L</td>\n",
       "      <td>₹1Cr</td>\n",
       "    </tr>\n",
       "    <tr>\n",
       "      <th>3</th>\n",
       "      <td>Delhivery</td>\n",
       "      <td>15 salaries</td>\n",
       "      <td>₹12,49,716  /yr</td>\n",
       "      <td>₹5L</td>\n",
       "      <td>₹17L</td>\n",
       "    </tr>\n",
       "    <tr>\n",
       "      <th>4</th>\n",
       "      <td>Ericsson-Worldwide</td>\n",
       "      <td>14 salaries</td>\n",
       "      <td>₹7,58,335  /yr</td>\n",
       "      <td>₹4L</td>\n",
       "      <td>₹16L</td>\n",
       "    </tr>\n",
       "    <tr>\n",
       "      <th>5</th>\n",
       "      <td>UnitedHealth Group</td>\n",
       "      <td>14 salaries</td>\n",
       "      <td>₹12,80,000  /yr</td>\n",
       "      <td>₹8L</td>\n",
       "      <td>₹20L</td>\n",
       "    </tr>\n",
       "    <tr>\n",
       "      <th>6</th>\n",
       "      <td>Optum</td>\n",
       "      <td>11 salaries</td>\n",
       "      <td>₹12,70,000  /yr</td>\n",
       "      <td>₹8L</td>\n",
       "      <td>₹18L</td>\n",
       "    </tr>\n",
       "    <tr>\n",
       "      <th>7</th>\n",
       "      <td>Optum Global Solutions</td>\n",
       "      <td>10 salaries</td>\n",
       "      <td>₹14,55,430  /yr</td>\n",
       "      <td>₹10L</td>\n",
       "      <td>₹15L</td>\n",
       "    </tr>\n",
       "    <tr>\n",
       "      <th>8</th>\n",
       "      <td>Valiance Solutions</td>\n",
       "      <td>10 salaries</td>\n",
       "      <td>₹8,86,064  /yr</td>\n",
       "      <td>₹5L</td>\n",
       "      <td>₹16L</td>\n",
       "    </tr>\n",
       "    <tr>\n",
       "      <th>9</th>\n",
       "      <td>EXL Service</td>\n",
       "      <td>9 salaries</td>\n",
       "      <td>₹11,10,000  /yr</td>\n",
       "      <td>₹6L</td>\n",
       "      <td>₹13L</td>\n",
       "    </tr>\n",
       "  </tbody>\n",
       "</table>\n",
       "</div>"
      ],
      "text/plain": [
       "                Company name Number of salaries   Average salary Min-salary  \\\n",
       "0  Tata Consultancy Services        22 salaries   ₹6,28,021  /yr        ₹4L   \n",
       "1                        IBM        20 salaries   ₹9,08,246  /yr        ₹1L   \n",
       "2                  Accenture        15 salaries  ₹11,93,390  /yr        ₹6L   \n",
       "3                  Delhivery        15 salaries  ₹12,49,716  /yr        ₹5L   \n",
       "4         Ericsson-Worldwide        14 salaries   ₹7,58,335  /yr        ₹4L   \n",
       "5         UnitedHealth Group        14 salaries  ₹12,80,000  /yr        ₹8L   \n",
       "6                      Optum        11 salaries  ₹12,70,000  /yr        ₹8L   \n",
       "7     Optum Global Solutions        10 salaries  ₹14,55,430  /yr       ₹10L   \n",
       "8         Valiance Solutions        10 salaries   ₹8,86,064  /yr        ₹5L   \n",
       "9                EXL Service         9 salaries  ₹11,10,000  /yr        ₹6L   \n",
       "\n",
       "  Max-Salary  \n",
       "0       ₹28L  \n",
       "1       ₹23L  \n",
       "2       ₹1Cr  \n",
       "3       ₹17L  \n",
       "4       ₹16L  \n",
       "5       ₹20L  \n",
       "6       ₹18L  \n",
       "7       ₹15L  \n",
       "8       ₹16L  \n",
       "9       ₹13L  "
      ]
     },
     "execution_count": 83,
     "metadata": {},
     "output_type": "execute_result"
    }
   ],
   "source": [
    "Glass=pd.DataFrame({})\n",
    "Glass[\"Company name\"]=company_name2[0:10]\n",
    "Glass[\"Number of salaries\"]=Nos2[0:10]\n",
    "Glass[\"Average salary\"]=Average_Salary[0:10]\n",
    "Glass[\"Min-salary\"]=minimum_Salary2[0:10]\n",
    "Glass[\"Max-Salary\"]=Maximum_Salary1\n",
    "Glass"
   ]
  }
 ],
 "metadata": {
  "kernelspec": {
   "display_name": "Python 3",
   "language": "python",
   "name": "python3"
  },
  "language_info": {
   "codemirror_mode": {
    "name": "ipython",
    "version": 3
   },
   "file_extension": ".py",
   "mimetype": "text/x-python",
   "name": "python",
   "nbconvert_exporter": "python",
   "pygments_lexer": "ipython3",
   "version": "3.8.5"
  }
 },
 "nbformat": 4,
 "nbformat_minor": 4
}
