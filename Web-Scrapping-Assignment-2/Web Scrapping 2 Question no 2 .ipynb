{
 "cells": [
  {
   "cell_type": "code",
   "execution_count": 43,
   "metadata": {},
   "outputs": [
    {
     "name": "stdout",
     "output_type": "stream",
     "text": [
      "Requirement already satisfied: selenium in c:\\users\\admin\\anaconda3\\lib\\site-packages (3.141.0)\n",
      "Requirement already satisfied: urllib3 in c:\\users\\admin\\anaconda3\\lib\\site-packages (from selenium) (1.25.11)\n"
     ]
    }
   ],
   "source": [
    "#Importing Selenium and web driver\n",
    "!pip install selenium\n",
    "import selenium\n",
    "import pandas as pd\n",
    "from selenium import webdriver "
   ]
  },
  {
   "cell_type": "code",
   "execution_count": 44,
   "metadata": {},
   "outputs": [],
   "source": [
    "#calling website\n",
    "driver=webdriver.Chrome(\"chromedriver.exe\")\n",
    "url='https://www.naukri.com/'\n",
    "driver.get(url)"
   ]
  },
  {
   "cell_type": "code",
   "execution_count": 45,
   "metadata": {},
   "outputs": [
    {
     "data": {
      "text/plain": [
       "<selenium.webdriver.remote.webelement.WebElement (session=\"0a67781d944955418848564dd7e0f9e4\", element=\"2a8a0c0a-39d8-4145-8187-bbbe3bb1f7d6\")>"
      ]
     },
     "execution_count": 45,
     "metadata": {},
     "output_type": "execute_result"
    }
   ],
   "source": [
    "search_job=driver.find_element_by_id(\"qsb-keyword-sugg\")\n",
    "search_job"
   ]
  },
  {
   "cell_type": "code",
   "execution_count": 46,
   "metadata": {},
   "outputs": [],
   "source": [
    "search_job.send_keys(\"Data Scientist\")"
   ]
  },
  {
   "cell_type": "code",
   "execution_count": 47,
   "metadata": {},
   "outputs": [],
   "source": [
    "search_location=driver.find_element_by_id(\"qsb-location-sugg\")\n",
    "search_location.send_keys(\"Bangalore\")"
   ]
  },
  {
   "cell_type": "code",
   "execution_count": 48,
   "metadata": {},
   "outputs": [],
   "source": [
    "search_btn=driver.find_element_by_xpath(\"//button[@class='btn']\")\n",
    "search_btn.click()"
   ]
  },
  {
   "cell_type": "code",
   "execution_count": 49,
   "metadata": {},
   "outputs": [
    {
     "data": {
      "text/plain": [
       "['Hiring For Data Scientist',\n",
       " 'Lead Data Scientist BFSI',\n",
       " 'Associate Data Scientist',\n",
       " 'Data Scientist',\n",
       " 'Data Scientist - I / II',\n",
       " 'Data Scientist',\n",
       " 'Data Scientist',\n",
       " 'Data Scientist: Advanced Analytics',\n",
       " 'Senior Data Scientist',\n",
       " 'Senior Data Scientist',\n",
       " 'Sr Data Scientist',\n",
       " 'Sr Data Scientist',\n",
       " 'SENIOR DATA SCIENTIST',\n",
       " 'Senior Data Scientist IN4',\n",
       " 'Senior Data Scientist (Marketplace)',\n",
       " 'Hiring For Manager and Sr. Manager | Data Scientist',\n",
       " 'Requirement For Data Scientist - Mumbai & Bangalore',\n",
       " 'Data Scientist (Python & SQL)',\n",
       " 'Lead Data Scientist - Machine Learning/ Data Mining',\n",
       " 'Data Scientist- Senior Business Analyst/Lead Analyst']"
      ]
     },
     "execution_count": 49,
     "metadata": {},
     "output_type": "execute_result"
    }
   ],
   "source": [
    "#Extracting Job Title\n",
    "title_tags=driver.find_elements_by_xpath(\"//a[@class='title fw500 ellipsis']\")\n",
    "title_tags\n",
    "job_titles=[]\n",
    "for i in title_tags:\n",
    "    job_titles.append(i.text)\n",
    "job_titles"
   ]
  },
  {
   "cell_type": "code",
   "execution_count": 50,
   "metadata": {},
   "outputs": [
    {
     "data": {
      "text/plain": [
       "['Tata Consultancy Services Ltd.',\n",
       " 'IBM India Pvt. Limited',\n",
       " 'Philips India Limited',\n",
       " 'Brillio',\n",
       " 'Sharechat',\n",
       " 'Allegis Services India Pvt. Ltd.',\n",
       " 'Allegis Services India Pvt. Ltd.',\n",
       " 'IBM India Pvt. Limited',\n",
       " 'Walmart Labs',\n",
       " 'Airbnb',\n",
       " 'IBM India Pvt. Limited',\n",
       " 'IBM India Pvt. Limited',\n",
       " 'Happiest Minds Technologies Pvt.Ltd',\n",
       " 'Walmart Labs',\n",
       " 'Walmart Labs',\n",
       " 'Vision Beyond Resources India Private Limited',\n",
       " 'CRISIL LIMITED',\n",
       " 'AVE-Promagne',\n",
       " 'Wrackle Technologies Pvt Ltd',\n",
       " 'Evalueserve.com Pvt. Ltd']"
      ]
     },
     "execution_count": 50,
     "metadata": {},
     "output_type": "execute_result"
    }
   ],
   "source": [
    "#Extracting Company_name\n",
    "company_tags=driver.find_elements_by_xpath(\"//a[@class='subTitle ellipsis fleft']\")\n",
    "company_tags\n",
    "company_titles=[]\n",
    "for i in company_tags:\n",
    "    company_titles.append(i.text)\n",
    "company_titles"
   ]
  },
  {
   "cell_type": "code",
   "execution_count": 51,
   "metadata": {},
   "outputs": [
    {
     "data": {
      "text/plain": [
       "['Chennai, Bangalore/Bengaluru, Mumbai (All Areas)',\n",
       " 'Bengaluru/Bangalore',\n",
       " 'Bangalore/Bengaluru',\n",
       " 'Bangalore/Bengaluru',\n",
       " 'Bangalore/Bengaluru',\n",
       " 'Bangalore/Bengaluru',\n",
       " 'Bangalore/Bengaluru',\n",
       " 'Bengaluru/Bangalore',\n",
       " 'Bangalore/Bengaluru',\n",
       " 'Bangalore/Bengaluru',\n",
       " 'Bengaluru/Bangalore',\n",
       " 'Bangalore/Bengaluru',\n",
       " 'Bangalore/Bengaluru',\n",
       " 'Bangalore/Bengaluru',\n",
       " 'Bangalore/Bengaluru',\n",
       " 'Noida, Mumbai, New Delhi, Gurgaon/Gurugram, Bangalore/Bengaluru',\n",
       " 'Bangalore/Bengaluru, Mumbai (All Areas)',\n",
       " 'Hyderabad/Secunderabad, Chennai, Bangalore/Bengaluru',\n",
       " 'Bangalore/Bengaluru',\n",
       " 'Gurgaon/Gurugram, Bangalore/Bengaluru']"
      ]
     },
     "execution_count": 51,
     "metadata": {},
     "output_type": "execute_result"
    }
   ],
   "source": [
    "#Extracting Location\n",
    "Location_tags=driver.find_elements_by_xpath(\"//li[@class='fleft grey-text br2 placeHolderLi location']//span[1]\")\n",
    "Location_tags\n",
    "Location_titles=[]\n",
    "for i in Location_tags:\n",
    "    Location_titles.append(i.text)\n",
    "Location_titles"
   ]
  },
  {
   "cell_type": "code",
   "execution_count": 52,
   "metadata": {},
   "outputs": [],
   "source": [
    "search_btn1=driver.find_element_by_xpath(\"//a[@class='title fw500 ellipsis']\")\n",
    "search_btn1.click()"
   ]
  },
  {
   "cell_type": "code",
   "execution_count": 53,
   "metadata": {},
   "outputs": [
    {
     "data": {
      "text/plain": [
       "[<selenium.webdriver.remote.webelement.WebElement (session=\"0a67781d944955418848564dd7e0f9e4\", element=\"b64ebe98-fbbd-47cc-81db-b429844364f2\")>,\n",
       " <selenium.webdriver.remote.webelement.WebElement (session=\"0a67781d944955418848564dd7e0f9e4\", element=\"73c3657a-6c25-4f19-9a99-885ddf291d38\")>,\n",
       " <selenium.webdriver.remote.webelement.WebElement (session=\"0a67781d944955418848564dd7e0f9e4\", element=\"cf85a7e3-5b3d-4262-a0fa-8c8c43fee7fb\")>,\n",
       " <selenium.webdriver.remote.webelement.WebElement (session=\"0a67781d944955418848564dd7e0f9e4\", element=\"8576b8a7-83a5-48c8-b9b0-598e52ddb321\")>,\n",
       " <selenium.webdriver.remote.webelement.WebElement (session=\"0a67781d944955418848564dd7e0f9e4\", element=\"e91ac127-0d74-435f-9d6b-b1e4fa9931ac\")>,\n",
       " <selenium.webdriver.remote.webelement.WebElement (session=\"0a67781d944955418848564dd7e0f9e4\", element=\"d9d23930-fbe7-4b64-8e5c-e66fe63955f8\")>,\n",
       " <selenium.webdriver.remote.webelement.WebElement (session=\"0a67781d944955418848564dd7e0f9e4\", element=\"c0b66e1e-5ea8-4ff2-bf8c-7cd027fbc544\")>,\n",
       " <selenium.webdriver.remote.webelement.WebElement (session=\"0a67781d944955418848564dd7e0f9e4\", element=\"d8d26d0e-3144-4a61-a61d-6421c950fd32\")>,\n",
       " <selenium.webdriver.remote.webelement.WebElement (session=\"0a67781d944955418848564dd7e0f9e4\", element=\"77ab2bc2-4531-4817-87d3-daecaf9b8968\")>,\n",
       " <selenium.webdriver.remote.webelement.WebElement (session=\"0a67781d944955418848564dd7e0f9e4\", element=\"b111082c-d70c-4815-9703-0e90f8d5a314\")>,\n",
       " <selenium.webdriver.remote.webelement.WebElement (session=\"0a67781d944955418848564dd7e0f9e4\", element=\"d975ebc5-ad35-45cc-8a63-39899f5541e2\")>,\n",
       " <selenium.webdriver.remote.webelement.WebElement (session=\"0a67781d944955418848564dd7e0f9e4\", element=\"c4bce96c-87cb-4168-91a0-0fa4d7439b91\")>,\n",
       " <selenium.webdriver.remote.webelement.WebElement (session=\"0a67781d944955418848564dd7e0f9e4\", element=\"b9360272-3533-4c0c-bb70-23e6c16a40ed\")>,\n",
       " <selenium.webdriver.remote.webelement.WebElement (session=\"0a67781d944955418848564dd7e0f9e4\", element=\"b6c79980-1acd-4d9f-af65-549832b05630\")>,\n",
       " <selenium.webdriver.remote.webelement.WebElement (session=\"0a67781d944955418848564dd7e0f9e4\", element=\"f84c9e88-ddf7-447c-aaab-76b47b8a9130\")>,\n",
       " <selenium.webdriver.remote.webelement.WebElement (session=\"0a67781d944955418848564dd7e0f9e4\", element=\"550e130a-5bd0-43c0-8e2e-061c6a7fe15d\")>,\n",
       " <selenium.webdriver.remote.webelement.WebElement (session=\"0a67781d944955418848564dd7e0f9e4\", element=\"cde0ac96-dd7e-4e94-83d9-565306e54529\")>,\n",
       " <selenium.webdriver.remote.webelement.WebElement (session=\"0a67781d944955418848564dd7e0f9e4\", element=\"309f103e-016e-43ae-9e41-6fab581c7654\")>,\n",
       " <selenium.webdriver.remote.webelement.WebElement (session=\"0a67781d944955418848564dd7e0f9e4\", element=\"59cda2f5-327b-4c26-9e38-74d92bb2f260\")>,\n",
       " <selenium.webdriver.remote.webelement.WebElement (session=\"0a67781d944955418848564dd7e0f9e4\", element=\"47acb295-7a64-4134-98ae-ac380fda2c55\")>]"
      ]
     },
     "execution_count": 53,
     "metadata": {},
     "output_type": "execute_result"
    }
   ],
   "source": [
    "url=driver.find_elements_by_xpath(\"//a[@class='title fw500 ellipsis']\")\n",
    "url"
   ]
  },
  {
   "cell_type": "code",
   "execution_count": 54,
   "metadata": {},
   "outputs": [
    {
     "data": {
      "text/plain": [
       "['https://www.naukri.com/job-listings-hiring-for-data-scientist-tata-consultancy-services-chennai-bangalore-bengaluru-mumbai-all-areas-3-to-8-years-110921000464?src=jobsearchDesk&sid=16315648023548763&xp=1&px=1',\n",
       " 'https://www.naukri.com/job-listings-lead-data-scientist-bfsi-ibm-india-pvt-limited-bengaluru-bangalore-5-to-9-years-070921901691?src=jobsearchDesk&sid=16315648023548763&xp=2&px=1',\n",
       " 'https://www.naukri.com/job-listings-associate-data-scientist-philips-india-limited-bangalore-bengaluru-3-to-5-years-060921501985?src=jobsearchDesk&sid=16315648023548763&xp=3&px=1',\n",
       " 'https://www.naukri.com/job-listings-data-scientist-brillio-technologies-pvt-ltd-bangalore-bengaluru-3-to-8-years-130921905402?src=jobsearchDesk&sid=16315648023548763&xp=4&px=1',\n",
       " 'https://www.naukri.com/job-listings-data-scientist-i-ii-sharechat-bangalore-bengaluru-2-to-3-years-130921500157?src=jobsearchDesk&sid=16315648023548763&xp=5&px=1',\n",
       " 'https://www.naukri.com/job-listings-data-scientist-allegis-services-india-pvt-ltd-bangalore-bengaluru-4-to-8-years-130921603395?src=jobsearchDesk&sid=16315648023548763&xp=6&px=1',\n",
       " 'https://www.naukri.com/job-listings-data-scientist-allegis-services-india-pvt-ltd-bangalore-bengaluru-4-to-8-years-130921003393?src=jobsearchDesk&sid=16315648023548763&xp=7&px=1',\n",
       " 'https://www.naukri.com/job-listings-data-scientist-advanced-analytics-ibm-india-pvt-limited-bengaluru-bangalore-3-to-7-years-070921901677?src=jobsearchDesk&sid=16315648023548763&xp=8&px=1',\n",
       " 'https://www.naukri.com/job-listings-senior-data-scientist-walmart-labs-bangalore-bengaluru-6-to-10-years-090921501063?src=jobsearchDesk&sid=16315648023548763&xp=9&px=1',\n",
       " 'https://www.naukri.com/job-listings-senior-data-scientist-airbnb-bangalore-bengaluru-7-to-12-years-080921500017?src=jobsearchDesk&sid=16315648023548763&xp=10&px=1',\n",
       " 'https://www.naukri.com/job-listings-sr-data-scientist-ibm-india-pvt-limited-bengaluru-bangalore-6-to-8-years-010921906637?src=jobsearchDesk&sid=16315648023548763&xp=11&px=1',\n",
       " 'https://www.naukri.com/job-listings-sr-data-scientist-ibm-india-pvt-limited-bangalore-bengaluru-6-to-8-years-010921906105?src=jobsearchDesk&sid=16315648023548763&xp=12&px=1',\n",
       " 'https://www.naukri.com/job-listings-senior-data-scientist-happiest-minds-technologies-pvt-ltd-bangalore-bengaluru-5-to-10-years-070921501517?src=jobsearchDesk&sid=16315648023548763&xp=13&px=1',\n",
       " 'https://www.naukri.com/job-listings-senior-data-scientist-in4-walmart-labs-bangalore-bengaluru-7-to-10-years-090921501064?src=jobsearchDesk&sid=16315648023548763&xp=14&px=1',\n",
       " 'https://www.naukri.com/job-listings-senior-data-scientist-marketplace-walmart-labs-bangalore-bengaluru-4-to-8-years-090921500549?src=jobsearchDesk&sid=16315648023548763&xp=15&px=1',\n",
       " 'https://www.naukri.com/job-listings-hiring-for-manager-and-sr-manager-data-scientist-vision-beyond-resources-india-private-limited-noida-mumbai-new-delhi-gurgaon-gurugram-bangalore-bengaluru-8-to-13-years-090921005986?src=jobsearchDesk&sid=16315648023548763&xp=16&px=1',\n",
       " 'https://www.naukri.com/job-listings-requirement-for-data-scientist-mumbai-bangalore-crisil-limited-bangalore-bengaluru-mumbai-all-areas-2-to-6-years-080921005523?src=jobsearchDesk&sid=16315648023548763&xp=17&px=1',\n",
       " 'https://www.naukri.com/job-listings-data-scientist-python-sql-ave-promagne-hyderabad-secunderabad-chennai-bangalore-bengaluru-6-to-8-years-060921904967?src=jobsearchDesk&sid=16315648023548763&xp=18&px=1',\n",
       " 'https://www.naukri.com/job-listings-lead-data-scientist-machine-learning-data-mining-wrackle-technologies-pvt-ltd-bangalore-bengaluru-6-to-11-years-080221900886?src=jobsearchDesk&sid=16315648023548763&xp=19&px=1',\n",
       " 'https://www.naukri.com/job-listings-data-scientist-senior-business-analyst-lead-analyst-evalueserve-com-pvt-ltd-gurgaon-gurugram-bangalore-bengaluru-2-to-7-years-110821005065?src=jobsearchDesk&sid=16315648023548763&xp=20&px=1']"
      ]
     },
     "execution_count": 54,
     "metadata": {},
     "output_type": "execute_result"
    }
   ],
   "source": [
    "job_opening_url=[]\n",
    "for i in url:\n",
    "    job_opening_url.append(i.get_attribute('href'))\n",
    "job_opening_url    "
   ]
  },
  {
   "cell_type": "code",
   "execution_count": 59,
   "metadata": {
    "scrolled": false
   },
   "outputs": [
    {
     "data": {
      "text/plain": [
       "['Job description Minumum 3 years of experience in Data Science/Machine learning  Location : PAN INDIA Exp : 3 - 7 Years  Minimum 3 year of experience in being Applied Machine Learning Engineer role Research, develop, and implement prediction, optimization, and analytics tools. Document and communicate methodology and results to technical and non-technical audiences Guide and implement best practices of curated data and evaluate ML models on large-scale data Lead design and implementation of Machine Learning algorithms, combining with rule-based optimization to deliver significant improvement in product metrics Write production ready high quality, maintainable and scalable code. Design and analyze metrics to verify model and algorithm effectiveness. Experience with data analysis languages such as Python or Scala Experience with Machine Learning tools (Azure ML, SageMaker, TensorFlow, Kubernetes, etc.) Experience with Machine Learning Languages (R, Python, .Net Core, etc.)  RoleProduct Manager Industry TypeIT Services & Consulting Functional AreaIT Software - Application Programming, Maintenance Employment TypeFull Time, Permanent Role CategoryProgramming & Design Education UG :Any Graduate Key Skills Data ScienceMachine LearningPython TensorflowAlgorithmsSCALAData AnalysisAnalyticsKubernetes Skills highlighted with ‘‘ are preferred keyskills',\n",
       " 'Job Description Introduction Software Developers at IBM are the backbone of our strategic initiatives to design, code, test, and provide industry-leading solutions that make the world run today - planes and trains take off on time, bank transactions complete in the blink of an eye and the world remains safe because of the work our software developers do. Whether you are working on projects internally or for a client, software development is critical to the success of IBM and our clients worldwide. At IBM, you will use the latest software development tools, techniques and approaches and work with leading minds in the industry to build solutions you can be proud of.  Your Role and Responsibilities IBM s Global Technology Services (GTS) business unit has embarked on a mission to be the most trusted partner to our clients and enable them with game changing technology backbone to drive competitive advantage. One of the most significant & challenging areas for our clients is Data. From identifying & capturing to curation & consumption - we would like to simplify, automate, and accelerate the data lifecycle within our client s myriad use cases. To this effect we have launched specific offering(s) and are building out a team of passionate achievers to help us define, create, market & deliver data solutions to our clients. We are looking for a passionate Data Scientists with expertise in Machine Learning, who can contribute to deliver on this vision. This is a fun and fast paced environment, where developers are empowered to innovate and learn fast is our standard operating model. As a Senior Data Scientist you will be at the forefront of this ride and get to work with end clients on a regular basis. You will be the face of GTS & evangelize the data science & ML solutions that we have to offer. You will create compelling value proposition and targeted content to significantly improve our chances of winning in the marketplace. You will defend IBM solutions and build trust with the client at all levels -operational to executive. You will help drive, qualify & close opportunities. You will be responsible for the execution and successful delivery of Data Science assignments. You will be responsible for identifying and supporting current and new hypotheses. With your understanding of complex concepts, you will translate hypotheses into actionable items that are understandable by non-technical business users. You understand challenges in the BFSI domains & can discover new avenues to apply AI/ML solutions to solve these challenges. The problems we address are significantly complex and we expect you to lead excellence in our data science methodologies. You have a distinct ability to identify and implement robust, efficient, and scalable solutions that leverage multiple techniques and/or technologies. You will Provide guidance and architecture support to platform development teams and oversee the development from initial concept to production deployment  Required Technical and Professional Expertise As a leader in Data science organization, lead multiple scrum teams to deliver innovative ML solutions in BFSI space PH.D or Master s degree in a quantitative field such as computer science, applied mathematics, statistics, physics, engineering or finance Overall Data Science, Statistical Analysis, Data Analytics & Machine Learning experience of 10 years 7 years of BFSI domain experience in implementing data science or AI solutions from exploration to production 3 years of experience in a responsible senior or team lead role managing a team of data scientists who develop robust machine learning models to solve actual business problems Expert understanding of ML Production deployments. Have atleast 3 years of experience in production grade ML design, development & deployment Work closely with internal and external stakeholders, both technical and non-technical and help translate deep ML knowledge to stakeholders. Work closely with ML engineering/Infrastructure team to help define the vision of ML training and ML inference platforms running on Cloud as well as On-prem Mentor and grow Junior data scientists in the team on both DS modelling and software engineering skills Expert ability to define Data Science model development & MLOps process, workflows, coding practices & DevOps practices Extensive overview of applied methods in statistics, machine learning and artificial intelligence Expert understanding of various AI/ML technology stacks including Cloud Based services Help define the data science development workflows from coding and architecture best practices, data strategy, to ML training and Inference platforms Demonstrated experience in creating AI/ML solutions within the BFSI space: Banking: Credit, Risk, Customer Exp, Open Banking, Digital Banking, Cross-Sell, Up-Sell, Branch Ops, Treasury, Cards Business, SME Banking, Wealth Management Insurance/Insurtech: Claims, Operations, Agency Development, Sales & Distribution, Customer Experience, Forecasting, Actuarial, Segmentation, Pricing FS/Regtech: Compliance & Regulatory, Auto, STPI, Consumer Durables, Commercial, Mortgage Knowledge of software engineering practices such as version control, continuous delivery, unit testing, documentation, release management Experience in natural language processing, text analytics, data mining, text processing or other AI subdomains and techniques Coach and lead a team of other data scientists, engineers, and other stakeholders Propose suitable technology stacks for projects to be deployed across cloud platforms and on-premise infrastructure. Solid data management and statistical modelling skills: Experience with Scala/Python, Scikit-learn, TensorFlow, Keras, NLTK, PyTorch etc Experience with leveraging best practices conducting advanced analytics projects Experience in distributed & scalable ML development. Good PoV on TinyML and Embedded AI/ML  Preferred Technical and Professional Expertise Experience with open-source distributed data processing & ML frameworks Experience working in a Linux environment Experience working within a development team setup which is building product/services Experience with presenting complex data science processes/information to non-data scientists Experience with Information Retrieval and relevant tools such as Lucene, Elasticsearch, Solr Prioritization skills; ability to manage ad-hoc requests in parallel with ongoing projects Strong experience in both classical ML modeling approaches and Deep learning based model approaches Data analysis, reporting, visualization expertise and experience with tools such as Tableau, Alteryx, Python and R at scale Good NLP knowledge and cloud experience preferred Passion, Drive and Can-do attitude Good communication skills Willingness to thrive in ambiguous environments',\n",
       " 'Job description Use predictive modeling to increase and optimize customer experiences, revenue generation, campaign optimization and other business outcomes Work with product management to develop data use cases and embed predictive models in workflows on resource constrained platforms and cloud enabled. Selecting features, building and optimizing classifiers using machine learning and deep learning techniques Collaborates with Data Engineers to enhance data collection and ingestion/curation techniques to include information that is relevant for building analytic systems Processing, cleansing, and verifying the integrity of data used for analysis Develop processes and tools to monitor and analyze model performance and data accuracy. Life cycle management of predictive models. Adherence to compliance procedures in accordance with regulatory standards, requirements, and policies. Managing and designing the reporting environment, including data sources security, and metadata. Job Qualifications: Master s degree or PhD in Computer Science, Information management, Statistics or related field, with 3 to 5 years of experience in the Consumer or Healthcare industry manipulating data sets and building predictive models with focus on product development Experience in statistical modelling, machine learning, data mining, unstructured data analytics and natural language processing. Sound understanding of - Bayesian Modelling, Classification Models, Cluster Analysis, Neural Network, Nonparametric Methods, Multivariate Statistics, etc. Strong hands on knowledge of ML techniques like regression algorithms, K-NN, Na ve Bayes, SVM and ensemble techniques like Random forest, AdaBoost etc Having strong knowledge in unsupervised learning algorithms using Neural networks and Deep-Learning Strong knowledge in Data Wrangling and Exploration techniques to identify the patterns, trends and outliners. Deep knowledge and practical experience with data science toolkits, such as NumPy, Pandas, scikit-learn or equivalent Experience with data visualization tools, such as QlikView, Matplotlib, seaborn or equivalent tools. Proficiency in using query languages, such as SQL, PL/SQL Hands on experience in the one or more databases like Hadoop, AWS Redshift, Snowflake etc. Good applied statistics skills, such as distributions, statistical testing, regression, etc. Good ETL scripting and programming skills, such as Python, R or Scala to integrate developed solution into the proposition. A team player capable of working and integrating across cross-functional team for implementing project requirements. Experience in technical requirements gathering and documentation. Ability to work effectively and independently in a fast-paced global collaborative agile team environment with tight deadlines A flexible, pragmatic and collaborative team player with innate ability to engage with stakeholders at all levels in the organization. A self-starter with high levels of drive, energy, resilience and a desire for professional excellence with a passion for data and data science RoleClinical Research Associate/Scientist Industry TypeMedical Services / Hospital Functional AreaMedical, Healthcare, R&D, Pharmaceuticals, Biotechnology Employment TypeFull Time, Permanent Role CategoryR&D Education UG :Any Graduate PG :Post Graduation Not Required Key Skills Product managementComputer sciencemetadataMachine learningAgilePLSQLHealthcareQlikViewData miningPython',\n",
       " 'Job description A day in the Life of Data Scientist at Brillio, you will: • Partner closely with project managers to deconstruct business problems of the client, develop data models and algorithms that deliver meaningful insights • Take ownership of whole end-to-end predictive modeling projects - from data processing, training, optimization to real-time monitoring and maintenance • Develop solutions to data driven problems, and communicate relevant insights to stakeholders through storyboards/presentations • Stay abreast with current technical and industry development and constantly strive to devise innovative statistical models for data analysis • Actively participate in external forums and industry conclaves For you to be successful, you must: • Create value by meeting needs of stakeholders and delivering high-quality results • Open and flexible to accommodate and implement new ideas, understand business complexities, nurture innovation and challenge the status quo persistently • Strive to be subject matter expert in chosen area of specialty through continuous learning • Have an eye for detail to ensure accurate conclusions in data analysis and presentations. Disseminate knowledge and share own experiential learning with others You’ll bring this to the table: • Critical Thinking: ability to work in ambiguous situations with unstructured problems • Strong analytical skills with the ability to collect, organize, review significant amounts of information • Experience using statistical computer language Python to manipulate data and draw insights from large data sets. • Working knowledge in basic statistical concepts such as properties of distributions, statistical tests and their proper usage • Expertise in some of the advanced machine learning techniques such as Clustering, Regression/Classification, Time Series Analysis, Network Analysis, Popular Deep Learning architectures and theory, simulation, scenario analysis • Clear, professional written and verbal communication skills, ability to easily communicate complex ideas • Experience with any distributed data/computing tools: Map/Reduce, Hadoop, Hive, Spark, etc. • Experience with machine learning on Cloud. RoleData Analyst Industry TypeIT Services & Consulting Functional AreaAnalytics & Business Intelligence Employment TypeFull Time, Permanent Role CategoryAnalytics & BI Education UG :Any Graduate PG :Any Postgraduate Key Skills Predictive ModelingHiveTime Series AnalysisClassificationHadoopData AnalysisSparkMachine LearningDeep LearningPython',\n",
       " 'Job description Responsibilities Apply state of the art in the relevant research domains to make significant contributions to the feature roadmap of the ShareChat app in the aforementioned areas. Apply expert coding skills to develop scalable product features in partnership with other engineers on app and infrastructure teams Apply best practices in big data processing to build feature stores, data pipelines, and model inference services that can deal with massive scale. Adapt deep learning algorithms to best exploit modern parallel environments (e.g. distributed clusters, GPUs). In the case of on-device applications, tune network architectures to efficiently run on low to medium end smartphones. Qualifications BTech, MS degree or Ph.D degree in Computer Science or a related discipline Experience in deploying ML models with frameworks like Tensorflow, PyTorch, MXNet, Caffe, Torch, etc on Android and iOS devices Excellent coding skills in C/C++ and Java Knowledge of evolving and recent technologies in Android, IOS app development and different mobile compute and memory resources and sensors Ability to build basic Android/iOS apps using NDK for Audio-Video capture and processing pipeline with basic UI features is needed Experience with multi threaded implementations utilizing computer units like multi core CPU, GPU, NPU, DSP and media encode/decide accelerators is a huge plus RoleSoftware Developer Industry TypeInternet Functional AreaIT Software - Other Employment TypeFull Time, Permanent Role CategoryProgramming & Design Education UG :B.Tech/B.E. in Production/Industrial PG :Any Postgraduate Key Skills JavaAlgorithmsC / C + +Data ScientistNatural Language ProcessingComputer ScienceBig DataData ProcessingComputer VisionDeep Learning',\n",
       " \"Job description  Must Have skill sets:  Excellent knowledge of various statistical / Machine Learning / Deep Learning algorithms such as Feature Engineering/selection, Time series, Regression, Classification, Clustering, Recommendation Engine, Anomaly Detection, NLP, Reinforcement Learning etc.) 4 to 8 years of hands-on expertise in developing data science models by applying above mentioned algorithms on structured / text data, using R / Python Proficient in writing optimized query using any one of the DB query language (Hive/Impala/SQL/MongoDB etc.). Knowledge of big data is essential  Good to Have skill sets:  Visualization using any one of the technologies (Tableau, PowerBI, RShiny, matplotlib, ggplot etc.). In case of lack of skills, eagerness to learn is must Insight Generation and Story telling to end consumers Experience across end to end data science project life cycle (use case framing, data collection, data exploration, design of experiments, model development, selection and deployment, post production support) Self-motivated to learn different techniques / technologies, as per the project's need and go extra mile to bring customer delight  Educational Qualification:  Any of the following: • Bachelors in Engineering / MCA • Masters in Data Science/ Computer Applications/ Statistics/ Mathematics/ Economics/ Ops Research/ Other quantitative disciplines • MBA  Job Responsibilities: Own and execute end to end delivery of one or more than one data science model development, as per requirement provided by project/product manager Understand business requirements from Product Managers/Business Users Extract data from multiple data sources using Hadoop / SQL Develop, Validate and Operationalize predictive models using appropriate variables and ML/deep learning techniques Perform ad-hoc deep dive analysis and generate actionable insights Create technical documentation and provide post-production support for a time-bound period Communicate the results to technical as well as business stakeholders across different hierarchies RoleData Analyst Industry TypeRecruitment / Staffing Functional AreaAnalytics & Business Intelligence Employment TypeFull Time, Permanent Role CategoryAnalytics & BI Education UG :B.Tech/B.E. in Any Specialization Key Skills Data ScienceMachine LearningPython Anomaly DetectionMatplotlibRNLPReinforcement LearningDeep LearningSQL Skills highlighted with ‘‘ are preferred keyskills\",\n",
       " \"Job Description  Must Have skill sets:  Excellent knowledge of various statistical / Machine Learning / Deep Learning algorithms such as Feature Engineering/selection, Time series, Regression, Classification, Clustering, Recommendation Engine, Anomaly Detection, NLP, Reinforcement Learning etc.) 4 to 8 years of hands-on expertise in developing data science models by applying above mentioned algorithms on structured / text data, using R / Python Proficient in writing optimized query using any one of the DB query language (Hive/Impala/SQL/MongoDB etc.). Knowledge of big data is essential  Good to Have skill sets:  Visualization using any one of the technologies (Tableau, PowerBI, RShiny, matplotlib, ggplot etc.). In case of lack of skills, eagerness to learn is must Insight Generation and Story telling to end consumers Experience across end to end data science project life cycle (use case framing, data collection, data exploration, design of experiments, model development, selection and deployment, post production support) Self-motivated to learn different techniques / technologies, as per the project's need and go extra mile to bring customer delight  Educational Qualification:  Any of the following: • Bachelors in Engineering / MCA • Masters in Data Science/ Computer Applications/ Statistics/ Mathematics/ Economics/ Ops Research/ Other quantitative disciplines • MBA  Job Responsibilities: Own and execute end to end delivery of one or more than one data science model development, as per requirement provided by project/product manager Understand business requirements from Product Managers/Business Users Extract data from multiple data sources using Hadoop / SQL Develop, Validate and Operationalize predictive models using appropriate variables and ML/deep learning techniques Perform ad-hoc deep dive analysis and generate actionable insights Create technical documentation and provide post-production support for a time-bound period Communicate the results to technical as well as business stakeholders across different hierarchies\",\n",
       " 'Job Description Introduction As a Data Scientist at IBM, you will help transform our clients data into tangible business value by analyzing information, communicating outcomes and collaborating on product development. Work with Best in Class open source and visual tools, along with the most flexible and scalable deployment options. Whether it s investigating patient trends or weather patterns, you will work to solve real world problems for the industries transforming how we live.  Your Role and Responsibilities Work with IBM Q Start team on active exploratory research engagements to prepare for future use case commercialization within specific industry Engage and educate client data science teams to define promising areas for quantum exploration Implement quantum approaches, which includes data pre-/post-processing, running numerics and visualizing data Collaborate with industry and solutioning experts to design and shape experiments to demonstrate quantum-enabled advantage Define best practices related to information architecture, including collection, integration, organization, analysis and visualization of data for quantum-enabled impact Engage in practice development initiatives focused on building employee knowledge and skills in specific areas of expertise through coaching and development of training course material  Required Technical and Professional Expertise PhD/Masters in STEM-related fields with knowledge in Quantum Computing. 5 years of data engineering and data science experience 2 years of consulting experience within specific industries with strong domain expertise and business acumen Proficiency with classical approaches to machine learning and linear algebra, including Support Vector Machine (SVM) for linear categorization and Singular Value Decomposition (SVD) to reduce dimensionality of data Familiar with Qiskit software, including Qiskit Aqua for domain applications and Qiskit Terra for quantum circuit design and optimization Excellent ideation, facilitation and communications skills Detail-oriented team player with strong interpersonal skills and ability to take a leadership role when necessary Willingness to travel globally up to 40% once we return to a travel-safe environment. English: Fluent  Preferred Technical and Professional Expertise 2 years of experience in at least one of the industries, with knowledge of industry trends, R&D areas, and computationally intensive processes (e.g. optimization) Familiarity with Qiskit',\n",
       " 'Job description As a Senior Data Scientist for Walmart, you ll have the opportunity to: Drive data-derived insights across a wide range of divisions by developing advanced statistical models, machine learning algorithms and computational algorithms based on business initiatives Direct the gathering of data, assessing data validity and synthesizing data into large analytics datasets to support project goals Utilize big data analytics and advanced data science techniques to identify trends, patterns, and discrepancies in data. Determine additional data needed to support insights Build and train statistical models and machine learning algorithms Apply your semantic, natural language processing and understanding expertise where required Use deep learning and image recognition project goals Computer Vision will be an important focus area for this role Productionize the models and make those available at scale Build and maintain end to end Machine Learning pipelines Be comfortable with ambiguity and uncertainty and the eagerness to change the world in a huge way by being a self-motivated learner and builder Communicate recommendations to business partners and influencing future plans based on insights Your Responsibility Play a key role to solve complex problems, pivotal to Walmart s business and drive actionable insights from petabytes of data Utilize product mindset to build, scale and deploy holistic data science products after successful prototyping Demonstrate incremental solution approach with agile and flexible ability to overcome practical problems Partner with senior team members to assess customer needs and define business questions Clearly articulate and present recommendations to business partners, and influence future plans based on insights Work with customer centric mindset to deliver high quality business driven analytic solution Drive innovation in approach, method, practices, process, outcome, delivery, or any component of end-to-end problem solving Demonstrates up-to-date expertise and applies this to the development, execution, and improvement of action plans Preferred Qualifications Bachelors degree in Statistics, Mathematics, Computer Science or a related field and 8 years experience in an analytics/DS related field, or, Masters degree in Statistics, Mathematics, Computer Science or a related field and 6 years experience in an analytics/DS related field. High proficiency in data mining, modeling, validation and insight generation. Excellent working knowledge of statistics, mathematics, machine learning, data mining, deep learning High proficiency in coding including Python and SQL Experience with databases (for example, DB2, Oracle, SQL Server) Experience with Big Data technologies such as Pig, Hive and/or Spark Ability to work with large data sets. Has sound understanding of big data technology stack Understanding of cloud computing platforms and large-scale databases Proven ability to collaborate and work in teams Excellent with communications and stakeholder engagement Data science publications in recognized platforms/journals Proven ability to work in agile mode on data science sprint projects RoleDatabase Architect/Designer Industry TypeIT Services & Consulting Functional AreaIT Software - DBA, Datawarehousing Employment TypeFull Time, Permanent Role CategoryProgramming & Design Education UG :Any Graduate PG :Any Postgraduate Key Skills ProcurementComputer scienceCloud computingData analysisdata scienceDb2CodingAgileData miningPython',\n",
       " 'Job description Responsibilities include: Defining and evaluating key metrics and understanding what moves them and why Ownership of conceptualizing, developing, and maintaining dashboards and visualizations Investigating evolving fraud trends to extract patterns, identify root causes and propose actionable solutions Communicating analyses and recommendations to cross functional stakeholders for decision making Empowering the team to answer data questions quickly and easily by building high-quality ground truth data sets Here are example traits we value: Professional industry experience in a quantitative analysis role (7+ years preferred) Comfortable in SQL and some experience with a programming language (Python or R a plus) Ability to communicate clearly and effectively to cross functional partners of varying technical levels Ability to define relevant metrics that can guide and influence stakeholders to the appropriate and accurate insights Experience or willingness to learn tools to create data pipelines using Airflow Building clear and easy to understand dashboards (Tableau) and presentations RoleGraphic/Web Designer Industry TypeInternet Functional AreaIT Software - DBA, Datawarehousing Employment TypeFull Time, Permanent Role CategoryProgramming & Design Education UG :Any Graduate PG :Any Postgraduate Key Skills Data ScienceRData ScientistTableauPythonSql',\n",
       " 'Job Description Introduction As a Data Scientist at IBM, you will help transform our clients data into tangible business value by analyzing information, communicating outcomes and collaborating on product development. Work with Best in Class open source and visual tools, along with the most flexible and scalable deployment options. Whether it s investigating patient trends or weather patterns, you will work to solve real world problems for the industries transforming how we live.  Your Role and Responsibilities Data Science Consultants are adept across data science techniques using open source tools to solve varied use cases for our clients They work to build strong, enduring relationships with client staff based on innovation, trust and service excellence. They are accountable for successful delivery of complex data science engagements adhering to client s requirements and timelines They learn constantly and lead adoption of emerging technologies and approaches in their processes benefiting the client & IBM overall.  Required Technical and Professional Expertise BTech (with 8 years of relevant experience) or Masters (with 6 years of relevant experience) in Operations Research, Applied Mathematics/ Statistics/ Econometrics, Electrical or Systems Engineering, Physics or similar highly quantitative field Strong ability to transform business requirements into data science formulations and implement the solutions in an efficient and scalable fashion Sound understanding of data science concepts, model development & performance tuning processes as well as coding, version control and CI/CD best practices Demonstrated extensive experience in building and deploying production quality models in a live digital environment using data pipelines and ML Ops frameworks including handling model drift, retraining and version control lifecycle Highly skilled in Python and various data science related libraries of Python including TensorFlow, Keras, Sci-Kit Lean, Pandas, Numpy and PySpark Experience in Convolutional Neural Network / Computer Vision projects using TensorFlow, PyTorch and leveraging public / open-source libraries (VGG16, ImageNet, YOLO, OpenCV, etc) as well as ability to tweak, modify these CNN architectures when required for a specific business problem. Demonstrated ability of scoping, executing and scaling multiple data science deliverables on their own Must have worked in developing and deploying models using more than one cloud platform (AWS, Azure, GCP, IBM) Ability to handle multiple projects as an individual contributor and as a lead / mentor to other team members managed directly or indirectly on a project / assignment Excellent interpersonal and stakeholder management skills including ability to interact and present to senior stakeholders',\n",
       " 'Job Description As a Data Scientist at IBM, you will help transform our clients data into tangible business value by analyzing information, communicating outcomes and collaborating on product development. Work with Best in Class open source and visual tools, along with the most flexible and scalable deployment options. Whether it s investigating patient trends or weather patterns, you will work to solve real world problems for the industries transforming how we live.  Your Role and Responsibilities Data Science Consultants are adept across data science techniques using open source tools to solve varied use cases for our clients They work to build strong, enduring relationships with client staff based on innovation, trust and service excellence. They are accountable for successful delivery of complex data science engagements adhering to client s requirements and timelines They learn constantly and lead adoption of emerging technologies and approaches in their processes benefiting the client & IBM overall. Required Technical and Professional Expertise BTech (with 8 years of relevant experience) or Masters (with 6 years of relevant experience) in Operations Research, Applied Mathematics/ Statistics/ Econometrics, Electrical or Systems Engineering, Physics or similar highly quantitative field Strong ability to transform business requirements into data science formulations and implement the solutions in an efficient and scalable fashion Sound understanding of data science concepts, model development & performance tuning processes as well as coding, version control and CI/CD best practices Demonstrated extensive experience in building and deploying production quality models in a live digital environment using data pipelines and ML Ops frameworks including handling model drift, retraining and version control lifecycle Highly skilled in Python and various data science related libraries of Python including TensorFlow, Keras, Sci-Kit Lean, Pandas, Numpy and PySpark Experience in Convolutional Neural Network / Computer Vision projects using TensorFlow, PyTorch and leveraging public / open-source libraries (VGG16, ImageNet, YOLO, OpenCV, etc) as well as ability to tweak, modify these CNN architectures when required for a specific business problem. Demonstrated ability of scoping, executing and scaling multiple data science deliverables on their own Must have worked in developing and deploying models using more than one cloud platform (AWS, Azure, GCP, IBM) Ability to handle multiple projects as an individual contributor and as a lead / mentor to other team members managed directly or indirectly on a project / assignment Excellent interpersonal and stakeholder management skills including ability to interact and present to senior stakeholders',\n",
       " 'Job description   Skills Required Skills: Data Science, Machine Learning, Deep Learning, Python, NLP Desired Skills: Computer Vision Roles and responsibilities Experience in Data Modelling, R, Python, SQL, Data Science, Machine Learning, Deep Learning, NLP, Statistics Have ability to solve Business problems using Data Should possess extensive knowledge of and experience in applying data mining and machine learning techniques on large amount of datasets High level of proficiency in statistical tools like R, Python Candidate will be expected to communicate analytical results in a way that is meaningful for business stakeholders and provides actionable insights. Have the ability to discover new opportunities where advanced analytical techniques can be leveraged for solving business problems Good to Have Expertise in programming languages like Java/C/C /Python Experience with relational databases and SQL is good to have Experience in audio and video analytics Relevant experience in Big Data platforms like Hadoop eco-system Come up with innovative algorithms and solutions Staffing Type:Permanent RoleClinical Research Associate/Scientist Industry TypeIT Services & Consulting Functional AreaMedical, Healthcare, R&D, Pharmaceuticals, Biotechnology Employment TypeFull Time, Permanent Role CategoryR&D Education UG :Any Graduate PG :Any Postgraduate Key Skills HospitalityNSEStaffingBfsiAnalyticalAgileData miningAnalyticsAutomotiveSQL',\n",
       " 'Job description Design, coordinate, and implement data driven business and technology solutions to support innovation initiatives Communicate complex models, analysis and recommendations in a clear and precise manner Provide thought leadership in statistical modeling and machine learning/ AI. NLP and Deep Learning are the two focus areas Deliver actionable insights to stakeholders through rich visualization and presentation Manage priorities between research and deliverables effectively Collaborate actively with topic owners to understand and develop advanced analytics / data science Your Qualifications Bachelor s degree in Engineering / Analytics or Master s Degree in Statistics/Computer Applications/ IT/Analytics /any discipline related to Data Science / Analytics. 7 years of progressive experience in Machine learning/Deep learning preferably working with packages like NLTK, BERT, ELMo etc Fluent in Python and have experience with NLP libraries like , Spacy, Genism, Glove, doc2vec etc. Exposure to Microsoft LUIS will be preferred Possess advanced knowledge of the HuggingFace libraries and concepts like tokens, tokenization, stemming, lemmatization, regex. Solid command on statistics and ability to connect theory and practice of data mining, machine learning to solve real-world use case l Strong working knowledge of Python (BERT, GPT, genism, SpaCy, tensorflow, Theano, PyTorch, SciPy, scikit-learn, pandas), SQL, Unix (awk, sed, bash) for data wrangling, data analysis, modeling. Knowledgeable in Natural Language processing (NLP) and quantitative analysis Previous experience building chatbots for Customer Service / specific business verticals (Bonus) Interesting side projects or Kaggle competition results (Bonus) Excellent critical thinking ability, result orientation and project management skills Sound verbal and written communication skills RoleSystem Analyst Industry TypeIT Services & Consulting Functional AreaIT Software - DBA, Datawarehousing Employment TypeFull Time, Permanent Role CategoryProgramming & Design Education UG :B.Tech/B.E. in Production/Industrial PG :M.Tech in Production/Industrial Key Skills UnixData analysisMachine learningCustomer supportCustomer serviceData miningmicrosoftAnalyticsSQLPython',\n",
       " 'Job description Position Responsibilities o Solve business problems by applying advanced Machine Learning algorithms and complex statistical models on large volumes of data. o Build, scale and deploy holistic data science products after successful prototyping. o Clearly articulate and present recommendations to business partners, and influence future plans based on insights. o Follow industry best practices, stay up to date with the state of the art in machine learning research and practice, drive innovation by contributing to the latest applied research in data science through publications and patents. o Promote and support company policies, procedures, mission, values, and standards of ethics and integrity. Position Requirements o Deep knowledge of the foundations of machine learning and statistics - can easily understand and implement a machine learning research paper. o Solid experience working with state-of-the-art supervised and unsupervised machine learning algorithms on real-world problems, preferably in ecommerce domain. o Strong Python coding skills and able to work with at least one other programming language such as Java/Scala. o Ability to work in a big data ecosystem - expert in SQL/Hive and ability to work with Spark. o Strong ability to understand the business and good stakeholder management capabilities. Qualifications o PhD with > 2 years of experience / 4-year bachelor s degree with > 7 years of experience / Master s degree with > 5 years of experience. Educational qualifications should be preferably in Computer Science or a related area. Experience should be relevant to the role. Good to have: o Experience in ecommerce domain. o Demonstrated success in data science platforms like Kaggle. RoleTeam Lead/Technical Lead Industry TypeIT Services & Consulting Functional AreaIT Software - Other Employment TypeFull Time, Permanent Role CategoryProgramming & Design Education UG :Any Graduate PG :Any Postgraduate Key Skills Computer sciencedata scienceCodingMachine learningSCALAE-commerceStakeholder managementAnalyticsSQLPython',\n",
       " 'Job description Hello, We are hiring on behalf of one of the largest BPO/ Consulting services. The skills rquired are Natural Language Processing, Python, Data Science and Machine Learning.  Title: Manager / Sr. Manager Location:Bangalore , Gurugram, Mumbai Duration : Fulltime Max Notice:1 Month RoleHead/VP/GM - Analytics & BI Industry TypeRecruitment / Staffing Functional AreaAnalytics & Business Intelligence Employment TypeFull Time, Permanent Role CategorySenior Management Education UG :Any Graduate PG :Any Postgraduate Doctorate :Any Doctorate Key Skills Data ScienceNatural Language ProcessingMachine LearningPython',\n",
       " 'Job description  CRISIL (formerly Credit Rating Information Services of India Limited) is an Indian analytical company providing ratings, research, and risk and policy advisory services and is a subsidiary of American company S&P Global  We are looking Data Scientist for Mumbai & Bangalore location Candidates who can join immediately or within 30-45 need only apply  Please refer below JD for your reference-  Job Description Data scientist: Client oriented approach to problem solving. Individual should be able to have a holistic view of multiple businesses and develop analytic solutions accordingly. Own and deliver multiple and complex analytic projects. This would require an understanding of business context, conversion of business problems in modeling, and implementing such solutions to create business value. Always up to date with the latest use cases of modeling community, machine learning and deep learning algorithms and share knowledge within the team. Proficiency in basic statistics, hypothesis testing, segmentation and predictive modeling. Ability to translate and articulate technical thoughts and ideas to a larger audience including influencing skills with peers and senior management. Strong project management skills. Ability to coach and mentor juniors. Eagerness to work on new and challenging tasks on a regular basis with an ability to research new ways of doing things better/efficiently. Contribute to organizational initiatives in wide ranging areas including competency development, training, organizational building activities etc. Skills  Basic Qualifications  Bachelors Degree with 2+ years of experience in data analytics, Hands-on experience in Python / SAS or R programing along with strong experience in SQL and Excel Macros. Experienced in working with large and multiple datasets, data warehouses and ability to pull data using relevant programs and coding. Well versed with necessary data preprocessing and feature engineering skills. At least 2 years of experience implementing Machine learning algorithms such as Random Forest and Gradient Boosting in solving business problems such as Default classification and macroeconomic forecasting. At least 1 year of experience implementing deep learning techniques like neural networks Exposure to deep learning packages like Tensorflow Strong background in Statistical Analysis Background in BFSI space will be preferred  RoleData Analyst Industry TypeBanking Functional AreaAnalytics & Business Intelligence Employment TypeFull Time, Permanent Role CategoryAnalytics & BI Education UG :Any Graduate PG :Any Postgraduate Key Skills rMachine LearningPython TensorflowPredictive ModelingSegmentationNeural NetworksDeep LearningRandom ForestSQL Skills highlighted with ‘‘ are preferred keyskills',\n",
       " 'Job description Required Technical and Professional Expertise • 6+ years of industry work experience in data scientist projects • Master’s degree or higher in Statistics/Math/Computer Science or related field • Background in applied statistical modeling on large experimental or observational data sets • Experience extracting data from a variety of sources, and a desire to expand those skills (working knowledge SQL is required, Spark is a plus) • Experience with one or more statistical or machine learning software such as R, Python, etc. • Must showcase past work through published articles/GitHub/social media  Preferred Technical and Professional Expertise • Knowledge of distributed computing systems, e.g. Cosmos, Spark, Hadoop, and relational database management system • PhD. in Statistics is preferred • You love collaborative environments that use agile methodologies to encourage creative design thinking and find innovative ways to develop with cutting edge technologies • Ambitious individual who can work under their own direction towards agreed targets/goals and with creative approach to work • Intuitive individual with an ability to manage change and proven time management • Proven interpersonal skills while contributing to team effort by accomplishing related results as needed RoleData Analyst Industry TypeIT Services & Consulting Functional AreaAnalytics & Business Intelligence Employment TypeFull Time, Permanent Role CategoryAnalytics & BI Education UG :B.Sc in Maths, Statistics PG :MS/M.Sc(Science) in Maths, Statistics Doctorate :Doctorate Not Required Key Skills RData scienceData analyticsSQLPython',\n",
       " 'Job description Roles and Responsibilities Requirements :  - 6-9 years of strong experience in data mining, machine learning and statistical analysis.  - BS/ MS/ PhD in Computer Science, Statistics, Applied Math, or related areas from Premier institutes ( only IITs / IISc / BITS / Top NITs or top US university should apply)  - Ability to lead and deliver in a fast-paced start-up environment.  - Fluency in tools such as Python/ R/ Matlab etc.  - Strong intuition for data and Keen aptitude on large scale data analysis  - Excellent written and verbal communication skills.  - Ability to collaborate across teams and strong interpersonal skills. RoleData Analyst Industry TypeIT Services & Consulting Functional AreaAnalytics & Business Intelligence Employment TypeFull Time, Permanent Role CategoryAnalytics & BI Education UG :B.Sc in Computers, Statistics PG :MS/M.Sc(Science) in Computers, Statistics Doctorate :Ph.D/Doctorate in Statistics, Computers Key Skills Data ScienceRData ScientistData MiningStatistical AnalystMachine LearningMATLABPython',\n",
       " 'Job description Job Description Understand and design analytical solutions to business problems leveraging data science Understand and get requirements from Stakeholders Propose and execute solutions and present deliverables to stakeholders Manage and optimize deliverables Mentor and train new team members Develop POCs to enhance the teams capability  Requirements Understanding of mathematical, statistical, and theoretical foundations of statistics and machine learning (ML) and parametric and non-parametric models Knowledge of advanced data mining techniques, curating, processing, and transforming data to produce datasets Use statistical techniques and ML methods for predictive modeling / classification of problems around clients, distribution, sales, marketing, client profiles, and segmentation Provide relevant and actionable recommendations / insights for businesses Understanding of ML lifecycle that includes feature engineering, training, validation, scaling, deployment, scoring, monitoring, and feedback loop Expertise in SAS Visual Analytics, Tableau, and Python Expert in Python / R / SAS Experience with cloud computing infrastructure, such as AWS / Azure / GCP Able to develop, test, and deploy models on cloud / web  Education and Experience BE / B.Tech. / MBA / M.Stat. / M.SC. or equivalent degree in Quant. from a reputed institute 2-8 years of relevant experience  RoleBusiness Analyst Industry TypeAnalytics / KPO / Research Functional AreaAnalytics & Business Intelligence Employment TypeFull Time, Permanent Role CategoryAnalytics & BI Education UG :B.Tech/B.E. in Any Specialization Key Skills Predictive ModelingData ScienceRMarketing Mix ModelingData MiningMarketing AnalyticsMachine LearningPythonSales Analytics']"
      ]
     },
     "execution_count": 59,
     "metadata": {},
     "output_type": "execute_result"
    }
   ],
   "source": [
    "#Extracting job_Description\n",
    "job_des = []\n",
    "for i in job_opening_url:\n",
    "    driver.get(i)\n",
    "    try:\n",
    "        # Finding for simple page\n",
    "        job_d = driver.find_element_by_xpath('//section[@class=\"job-desc\"]').text\n",
    "        \n",
    "    except:\n",
    "        # fiding in diffrent way if got an error \n",
    "        job_d = driver.find_element_by_xpath('//div[contains(@itemprop,\"description\")]').text\n",
    "    \n",
    "    job_d = job_d.replace('\\n', ' ')\n",
    "    # appending to list\n",
    "    job_des.append(job_d)\n",
    "    \n",
    "job_des"
   ]
  },
  {
   "cell_type": "code",
   "execution_count": 60,
   "metadata": {},
   "outputs": [
    {
     "data": {
      "text/html": [
       "<div>\n",
       "<style scoped>\n",
       "    .dataframe tbody tr th:only-of-type {\n",
       "        vertical-align: middle;\n",
       "    }\n",
       "\n",
       "    .dataframe tbody tr th {\n",
       "        vertical-align: top;\n",
       "    }\n",
       "\n",
       "    .dataframe thead th {\n",
       "        text-align: right;\n",
       "    }\n",
       "</style>\n",
       "<table border=\"1\" class=\"dataframe\">\n",
       "  <thead>\n",
       "    <tr style=\"text-align: right;\">\n",
       "      <th></th>\n",
       "      <th>Job_Title</th>\n",
       "      <th>Company</th>\n",
       "      <th>Location</th>\n",
       "      <th>Description</th>\n",
       "    </tr>\n",
       "  </thead>\n",
       "  <tbody>\n",
       "    <tr>\n",
       "      <th>0</th>\n",
       "      <td>Hiring For Data Scientist</td>\n",
       "      <td>Tata Consultancy Services Ltd.</td>\n",
       "      <td>Chennai, Bangalore/Bengaluru, Mumbai (All Areas)</td>\n",
       "      <td>Job description Minumum 3 years of experience ...</td>\n",
       "    </tr>\n",
       "    <tr>\n",
       "      <th>1</th>\n",
       "      <td>Lead Data Scientist BFSI</td>\n",
       "      <td>IBM India Pvt. Limited</td>\n",
       "      <td>Bengaluru/Bangalore</td>\n",
       "      <td>Job Description Introduction Software Develope...</td>\n",
       "    </tr>\n",
       "    <tr>\n",
       "      <th>2</th>\n",
       "      <td>Associate Data Scientist</td>\n",
       "      <td>Philips India Limited</td>\n",
       "      <td>Bangalore/Bengaluru</td>\n",
       "      <td>Job description Use predictive modeling to inc...</td>\n",
       "    </tr>\n",
       "    <tr>\n",
       "      <th>3</th>\n",
       "      <td>Data Scientist</td>\n",
       "      <td>Brillio</td>\n",
       "      <td>Bangalore/Bengaluru</td>\n",
       "      <td>Job description A day in the Life of Data Scie...</td>\n",
       "    </tr>\n",
       "    <tr>\n",
       "      <th>4</th>\n",
       "      <td>Data Scientist - I / II</td>\n",
       "      <td>Sharechat</td>\n",
       "      <td>Bangalore/Bengaluru</td>\n",
       "      <td>Job description Responsibilities Apply state o...</td>\n",
       "    </tr>\n",
       "    <tr>\n",
       "      <th>5</th>\n",
       "      <td>Data Scientist</td>\n",
       "      <td>Allegis Services India Pvt. Ltd.</td>\n",
       "      <td>Bangalore/Bengaluru</td>\n",
       "      <td>Job description  Must Have skill sets:  Excell...</td>\n",
       "    </tr>\n",
       "    <tr>\n",
       "      <th>6</th>\n",
       "      <td>Data Scientist</td>\n",
       "      <td>Allegis Services India Pvt. Ltd.</td>\n",
       "      <td>Bangalore/Bengaluru</td>\n",
       "      <td>Job Description  Must Have skill sets:  Excell...</td>\n",
       "    </tr>\n",
       "    <tr>\n",
       "      <th>7</th>\n",
       "      <td>Data Scientist: Advanced Analytics</td>\n",
       "      <td>IBM India Pvt. Limited</td>\n",
       "      <td>Bengaluru/Bangalore</td>\n",
       "      <td>Job Description Introduction As a Data Scienti...</td>\n",
       "    </tr>\n",
       "    <tr>\n",
       "      <th>8</th>\n",
       "      <td>Senior Data Scientist</td>\n",
       "      <td>Walmart Labs</td>\n",
       "      <td>Bangalore/Bengaluru</td>\n",
       "      <td>Job description As a Senior Data Scientist for...</td>\n",
       "    </tr>\n",
       "    <tr>\n",
       "      <th>9</th>\n",
       "      <td>Senior Data Scientist</td>\n",
       "      <td>Airbnb</td>\n",
       "      <td>Bangalore/Bengaluru</td>\n",
       "      <td>Job description Responsibilities include: Defi...</td>\n",
       "    </tr>\n",
       "  </tbody>\n",
       "</table>\n",
       "</div>"
      ],
      "text/plain": [
       "                            Job_Title                           Company  \\\n",
       "0           Hiring For Data Scientist    Tata Consultancy Services Ltd.   \n",
       "1            Lead Data Scientist BFSI            IBM India Pvt. Limited   \n",
       "2            Associate Data Scientist             Philips India Limited   \n",
       "3                      Data Scientist                           Brillio   \n",
       "4             Data Scientist - I / II                         Sharechat   \n",
       "5                      Data Scientist  Allegis Services India Pvt. Ltd.   \n",
       "6                      Data Scientist  Allegis Services India Pvt. Ltd.   \n",
       "7  Data Scientist: Advanced Analytics            IBM India Pvt. Limited   \n",
       "8               Senior Data Scientist                      Walmart Labs   \n",
       "9               Senior Data Scientist                            Airbnb   \n",
       "\n",
       "                                           Location  \\\n",
       "0  Chennai, Bangalore/Bengaluru, Mumbai (All Areas)   \n",
       "1                               Bengaluru/Bangalore   \n",
       "2                               Bangalore/Bengaluru   \n",
       "3                               Bangalore/Bengaluru   \n",
       "4                               Bangalore/Bengaluru   \n",
       "5                               Bangalore/Bengaluru   \n",
       "6                               Bangalore/Bengaluru   \n",
       "7                               Bengaluru/Bangalore   \n",
       "8                               Bangalore/Bengaluru   \n",
       "9                               Bangalore/Bengaluru   \n",
       "\n",
       "                                         Description  \n",
       "0  Job description Minumum 3 years of experience ...  \n",
       "1  Job Description Introduction Software Develope...  \n",
       "2  Job description Use predictive modeling to inc...  \n",
       "3  Job description A day in the Life of Data Scie...  \n",
       "4  Job description Responsibilities Apply state o...  \n",
       "5  Job description  Must Have skill sets:  Excell...  \n",
       "6  Job Description  Must Have skill sets:  Excell...  \n",
       "7  Job Description Introduction As a Data Scienti...  \n",
       "8  Job description As a Senior Data Scientist for...  \n",
       "9  Job description Responsibilities include: Defi...  "
      ]
     },
     "execution_count": 60,
     "metadata": {},
     "output_type": "execute_result"
    }
   ],
   "source": [
    "#creaing Database\n",
    "jobs1=pd.DataFrame({})\n",
    "jobs1[\"Job_Title\"]=job_titles[0:10]\n",
    "jobs1[\"Company\"]=company_titles[0:10]\n",
    "jobs1[\"Location\"]=Location_titles[0:10]\n",
    "jobs1[\"Description\"]=job_des[0:10]\n",
    "jobs1"
   ]
  },
  {
   "cell_type": "code",
   "execution_count": null,
   "metadata": {},
   "outputs": [],
   "source": []
  },
  {
   "cell_type": "code",
   "execution_count": null,
   "metadata": {},
   "outputs": [],
   "source": []
  }
 ],
 "metadata": {
  "kernelspec": {
   "display_name": "Python 3",
   "language": "python",
   "name": "python3"
  },
  "language_info": {
   "codemirror_mode": {
    "name": "ipython",
    "version": 3
   },
   "file_extension": ".py",
   "mimetype": "text/x-python",
   "name": "python",
   "nbconvert_exporter": "python",
   "pygments_lexer": "ipython3",
   "version": "3.8.5"
  }
 },
 "nbformat": 4,
 "nbformat_minor": 4
}
