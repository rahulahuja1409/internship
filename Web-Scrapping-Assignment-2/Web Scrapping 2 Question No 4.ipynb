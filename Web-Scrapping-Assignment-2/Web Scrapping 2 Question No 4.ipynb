{
 "cells": [
  {
   "cell_type": "markdown",
   "metadata": {},
   "source": [
    "# Q4: Write a python program to scrape data for first 10 job results for Data scientist Designation in Noida location. You have to scrape company_name, No. of days ago when job was posted, Rating of the company.\n",
    "This task will be done in following steps:\n",
    "1. first get the webpage https://www.glassdoor.co.in/index.htm\n",
    "2. Enter “Data Scientist” in “Job Title,Keyword,Company” field and enter “Noida” \n",
    "in “location” field.\n",
    "3. Then click the search button. You will land up in the below page\n",
    "4. Then scrape the data for the first 10 jobs results you get in the above shown \n",
    "page"
   ]
  },
  {
   "cell_type": "code",
   "execution_count": 65,
   "metadata": {},
   "outputs": [],
   "source": [
    "import selenium\n",
    "import pandas as pd\n",
    "from selenium import webdriver "
   ]
  },
  {
   "cell_type": "code",
   "execution_count": 66,
   "metadata": {},
   "outputs": [],
   "source": [
    "driver=webdriver.Chrome(\"chromedriver1.exe\")"
   ]
  },
  {
   "cell_type": "code",
   "execution_count": 67,
   "metadata": {},
   "outputs": [],
   "source": [
    "url='https://www.glassdoor.co.in/member/home/index.htm'\n",
    "driver.get(url)"
   ]
  },
  {
   "cell_type": "code",
   "execution_count": 68,
   "metadata": {},
   "outputs": [
    {
     "data": {
      "text/plain": [
       "<selenium.webdriver.remote.webelement.WebElement (session=\"67cf3188edd4853b00cc753998e10068\", element=\"fd3b3993-8da2-47ee-8488-aa26b7243181\")>"
      ]
     },
     "execution_count": 68,
     "metadata": {},
     "output_type": "execute_result"
    }
   ],
   "source": [
    "search_job=driver.find_element_by_xpath(\"//input[@id='sc.keyword']\")\n",
    "search_job"
   ]
  },
  {
   "cell_type": "code",
   "execution_count": 69,
   "metadata": {},
   "outputs": [],
   "source": [
    "search_job.send_keys(\"Data Scientist\")"
   ]
  },
  {
   "cell_type": "code",
   "execution_count": 70,
   "metadata": {},
   "outputs": [],
   "source": [
    "search_Loc=driver.find_element_by_xpath(\"//input[@id='sc.location']\")\n",
    "search_Loc\n",
    "search_Loc.send_keys(\"Noida\")"
   ]
  },
  {
   "cell_type": "code",
   "execution_count": 71,
   "metadata": {},
   "outputs": [],
   "source": [
    "search_btn=driver.find_element_by_xpath(\"//span[@class='css-8zxfjs']\")\n",
    "search_btn.click()"
   ]
  },
  {
   "cell_type": "code",
   "execution_count": 74,
   "metadata": {},
   "outputs": [
    {
     "data": {
      "text/plain": [
       "[<selenium.webdriver.remote.webelement.WebElement (session=\"67cf3188edd4853b00cc753998e10068\", element=\"74d8b737-8b75-4145-b0cd-0070a5f0c4b0\")>,\n",
       " <selenium.webdriver.remote.webelement.WebElement (session=\"67cf3188edd4853b00cc753998e10068\", element=\"68622c7f-470a-4384-8288-c72362473e3f\")>,\n",
       " <selenium.webdriver.remote.webelement.WebElement (session=\"67cf3188edd4853b00cc753998e10068\", element=\"6778812d-0bb3-4ea0-a4ce-05a63b8c4568\")>,\n",
       " <selenium.webdriver.remote.webelement.WebElement (session=\"67cf3188edd4853b00cc753998e10068\", element=\"a23d8c4e-06cd-4f8e-8b11-4770da1bdfcd\")>,\n",
       " <selenium.webdriver.remote.webelement.WebElement (session=\"67cf3188edd4853b00cc753998e10068\", element=\"8f6f3198-1acd-4a48-86a3-4e80eb85702d\")>,\n",
       " <selenium.webdriver.remote.webelement.WebElement (session=\"67cf3188edd4853b00cc753998e10068\", element=\"6d828bb0-cd33-4dd8-a422-9396fd321413\")>,\n",
       " <selenium.webdriver.remote.webelement.WebElement (session=\"67cf3188edd4853b00cc753998e10068\", element=\"afdd78f0-540f-4979-9d2b-ea5fec7072d7\")>,\n",
       " <selenium.webdriver.remote.webelement.WebElement (session=\"67cf3188edd4853b00cc753998e10068\", element=\"98d5c787-f7df-4fe0-b72d-300c46e394a9\")>,\n",
       " <selenium.webdriver.remote.webelement.WebElement (session=\"67cf3188edd4853b00cc753998e10068\", element=\"0f43d1d5-cec2-456b-9209-043b644f4a80\")>,\n",
       " <selenium.webdriver.remote.webelement.WebElement (session=\"67cf3188edd4853b00cc753998e10068\", element=\"561916cf-1eec-46f7-a4be-c79a4a130d13\")>,\n",
       " <selenium.webdriver.remote.webelement.WebElement (session=\"67cf3188edd4853b00cc753998e10068\", element=\"19ac9229-2ab5-4373-89b8-664bb2395d07\")>,\n",
       " <selenium.webdriver.remote.webelement.WebElement (session=\"67cf3188edd4853b00cc753998e10068\", element=\"7d15d097-7200-493b-9719-e5921ebca371\")>,\n",
       " <selenium.webdriver.remote.webelement.WebElement (session=\"67cf3188edd4853b00cc753998e10068\", element=\"aafbe5cb-57e7-4816-a11b-7e2f660be3ce\")>,\n",
       " <selenium.webdriver.remote.webelement.WebElement (session=\"67cf3188edd4853b00cc753998e10068\", element=\"83582166-e755-40d5-9d08-99153602a65e\")>,\n",
       " <selenium.webdriver.remote.webelement.WebElement (session=\"67cf3188edd4853b00cc753998e10068\", element=\"f0d63adb-b7e8-4ff0-9dca-58a0f79be79d\")>,\n",
       " <selenium.webdriver.remote.webelement.WebElement (session=\"67cf3188edd4853b00cc753998e10068\", element=\"7910bdbf-4f4d-44c1-84ee-06cc5c62f9dc\")>,\n",
       " <selenium.webdriver.remote.webelement.WebElement (session=\"67cf3188edd4853b00cc753998e10068\", element=\"299a41b3-d744-4d03-b5e4-4e723db8b98d\")>,\n",
       " <selenium.webdriver.remote.webelement.WebElement (session=\"67cf3188edd4853b00cc753998e10068\", element=\"f25cf064-e8e1-463e-8fde-3412dfbc56f1\")>,\n",
       " <selenium.webdriver.remote.webelement.WebElement (session=\"67cf3188edd4853b00cc753998e10068\", element=\"9d1985e1-e5d5-43ff-b1fd-1da05b3a7718\")>,\n",
       " <selenium.webdriver.remote.webelement.WebElement (session=\"67cf3188edd4853b00cc753998e10068\", element=\"f2398d15-2358-496d-b0c7-f364352a89dd\")>,\n",
       " <selenium.webdriver.remote.webelement.WebElement (session=\"67cf3188edd4853b00cc753998e10068\", element=\"7acfe0db-3e36-4d77-ba0a-a8f807e414d8\")>,\n",
       " <selenium.webdriver.remote.webelement.WebElement (session=\"67cf3188edd4853b00cc753998e10068\", element=\"39a6efb0-72c5-4a14-ac3a-0b04cd4ba615\")>,\n",
       " <selenium.webdriver.remote.webelement.WebElement (session=\"67cf3188edd4853b00cc753998e10068\", element=\"bea6a92c-2176-4d2e-96a9-eeb3460472d5\")>,\n",
       " <selenium.webdriver.remote.webelement.WebElement (session=\"67cf3188edd4853b00cc753998e10068\", element=\"1e7c9cfc-af0a-44d7-9708-96ac95f65755\")>,\n",
       " <selenium.webdriver.remote.webelement.WebElement (session=\"67cf3188edd4853b00cc753998e10068\", element=\"601fff01-4bee-426b-967b-a3fe0f9b9ee8\")>,\n",
       " <selenium.webdriver.remote.webelement.WebElement (session=\"67cf3188edd4853b00cc753998e10068\", element=\"b46a7e13-14ca-44cd-bafc-e5b3eec2c4ef\")>,\n",
       " <selenium.webdriver.remote.webelement.WebElement (session=\"67cf3188edd4853b00cc753998e10068\", element=\"afa19afe-e10d-4bd9-9586-15cd57599422\")>,\n",
       " <selenium.webdriver.remote.webelement.WebElement (session=\"67cf3188edd4853b00cc753998e10068\", element=\"66a2d3e9-e48f-40f7-b252-69da2dcd55a8\")>,\n",
       " <selenium.webdriver.remote.webelement.WebElement (session=\"67cf3188edd4853b00cc753998e10068\", element=\"0b1989a2-dcc5-4a52-a508-a3ca7ff8db81\")>,\n",
       " <selenium.webdriver.remote.webelement.WebElement (session=\"67cf3188edd4853b00cc753998e10068\", element=\"37f0b995-ab6c-40a4-8651-50dd6d131fed\")>]"
      ]
     },
     "execution_count": 74,
     "metadata": {},
     "output_type": "execute_result"
    }
   ],
   "source": [
    "company_name1=driver.find_elements_by_xpath(\"//div[@class='d-flex justify-content-between align-items-start']\")\n",
    "company_name1"
   ]
  },
  {
   "cell_type": "code",
   "execution_count": 76,
   "metadata": {},
   "outputs": [
    {
     "data": {
      "text/plain": [
       "['AlgoScale Technologies Private Limited',\n",
       " 'Liberin Technologies Private Limited',\n",
       " 'Noisy Lion',\n",
       " 'Salasar New Age Technologies',\n",
       " 'Lenskart',\n",
       " 'Techlive',\n",
       " 'Grail Insights',\n",
       " 'Salasar New Age Technologies',\n",
       " 'Grail Insights',\n",
       " 'IBM',\n",
       " 'Genpact',\n",
       " 'Newgen Software',\n",
       " 'Biz2Credit Inc',\n",
       " 'Ericsson',\n",
       " 'Crowe',\n",
       " 'SearchUrCollege',\n",
       " 'limeroad.com',\n",
       " 'NEC Opportunities',\n",
       " 'Airtel India',\n",
       " 'Emerging India Group',\n",
       " 'Monotype',\n",
       " 'CSTEP',\n",
       " 'CRMNEXT',\n",
       " 'Ishatva Management Solutions',\n",
       " 'Crypto Mize',\n",
       " 'ING',\n",
       " 'Saishaa Services',\n",
       " 'Badatya Private Limited',\n",
       " 'xtLytics',\n",
       " 'WishFin']"
      ]
     },
     "execution_count": 76,
     "metadata": {},
     "output_type": "execute_result"
    }
   ],
   "source": [
    "company_name2=[]\n",
    "\n",
    "for i in company_name1:\n",
    "    company_name2.append(i.text)\n",
    "company_name2"
   ]
  },
  {
   "cell_type": "code",
   "execution_count": 77,
   "metadata": {},
   "outputs": [
    {
     "data": {
      "text/plain": [
       "['19d',\n",
       " '30d+',\n",
       " '4d',\n",
       " '30d+',\n",
       " '6d',\n",
       " '30d+',\n",
       " '5d',\n",
       " '30d+',\n",
       " '5d',\n",
       " '23d',\n",
       " '6d',\n",
       " '30d+',\n",
       " '30d+',\n",
       " '11d',\n",
       " '30d+',\n",
       " '30d+',\n",
       " '19d',\n",
       " '25d',\n",
       " '24d',\n",
       " '30d+',\n",
       " '4d',\n",
       " '30d+',\n",
       " '30d+',\n",
       " '14d',\n",
       " '27d',\n",
       " '10d',\n",
       " '21d',\n",
       " '16d',\n",
       " '30d+',\n",
       " '30d+']"
      ]
     },
     "execution_count": 77,
     "metadata": {},
     "output_type": "execute_result"
    }
   ],
   "source": [
    "no=driver.find_elements_by_xpath(\"//div[@data-test='job-age']\")\n",
    "no\n",
    "\n",
    "NOD=[]\n",
    "\n",
    "for i in no:\n",
    "    NOD.append(i.text)\n",
    "NOD"
   ]
  },
  {
   "cell_type": "code",
   "execution_count": 78,
   "metadata": {},
   "outputs": [
    {
     "data": {
      "text/plain": [
       "['3.9',\n",
       " '3.9',\n",
       " '3.6',\n",
       " '3.5',\n",
       " '3.5',\n",
       " '3.9',\n",
       " '3.8',\n",
       " '3.3',\n",
       " '4.2',\n",
       " '4.1',\n",
       " '3.8',\n",
       " '3.8',\n",
       " '2.4',\n",
       " '3.9',\n",
       " '3.2',\n",
       " '3.7',\n",
       " '5.0',\n",
       " '4.0',\n",
       " '4.5',\n",
       " '3.0',\n",
       " '3.8']"
      ]
     },
     "execution_count": 78,
     "metadata": {},
     "output_type": "execute_result"
    }
   ],
   "source": [
    "ratings=driver.find_elements_by_xpath(\"//span[@class=' job-search-key-srfzj0 e1cjmv6j0']\")\n",
    "ratings\n",
    "\n",
    "ratings_1=[]\n",
    "\n",
    "for i in ratings:\n",
    "    ratings_1.append(i.text)\n",
    "ratings_1"
   ]
  },
  {
   "cell_type": "code",
   "execution_count": 80,
   "metadata": {},
   "outputs": [
    {
     "data": {
      "text/html": [
       "<div>\n",
       "<style scoped>\n",
       "    .dataframe tbody tr th:only-of-type {\n",
       "        vertical-align: middle;\n",
       "    }\n",
       "\n",
       "    .dataframe tbody tr th {\n",
       "        vertical-align: top;\n",
       "    }\n",
       "\n",
       "    .dataframe thead th {\n",
       "        text-align: right;\n",
       "    }\n",
       "</style>\n",
       "<table border=\"1\" class=\"dataframe\">\n",
       "  <thead>\n",
       "    <tr style=\"text-align: right;\">\n",
       "      <th></th>\n",
       "      <th>Company_Name</th>\n",
       "      <th>No. of days ago when job was posted</th>\n",
       "      <th>Rating of the Company</th>\n",
       "    </tr>\n",
       "  </thead>\n",
       "  <tbody>\n",
       "    <tr>\n",
       "      <th>0</th>\n",
       "      <td>AlgoScale Technologies Private Limited</td>\n",
       "      <td>19d</td>\n",
       "      <td>3.9</td>\n",
       "    </tr>\n",
       "    <tr>\n",
       "      <th>1</th>\n",
       "      <td>Liberin Technologies Private Limited</td>\n",
       "      <td>30d+</td>\n",
       "      <td>3.9</td>\n",
       "    </tr>\n",
       "    <tr>\n",
       "      <th>2</th>\n",
       "      <td>Noisy Lion</td>\n",
       "      <td>4d</td>\n",
       "      <td>3.6</td>\n",
       "    </tr>\n",
       "    <tr>\n",
       "      <th>3</th>\n",
       "      <td>Salasar New Age Technologies</td>\n",
       "      <td>30d+</td>\n",
       "      <td>3.5</td>\n",
       "    </tr>\n",
       "    <tr>\n",
       "      <th>4</th>\n",
       "      <td>Lenskart</td>\n",
       "      <td>6d</td>\n",
       "      <td>3.5</td>\n",
       "    </tr>\n",
       "    <tr>\n",
       "      <th>5</th>\n",
       "      <td>Techlive</td>\n",
       "      <td>30d+</td>\n",
       "      <td>3.9</td>\n",
       "    </tr>\n",
       "    <tr>\n",
       "      <th>6</th>\n",
       "      <td>Grail Insights</td>\n",
       "      <td>5d</td>\n",
       "      <td>3.8</td>\n",
       "    </tr>\n",
       "    <tr>\n",
       "      <th>7</th>\n",
       "      <td>Salasar New Age Technologies</td>\n",
       "      <td>30d+</td>\n",
       "      <td>3.3</td>\n",
       "    </tr>\n",
       "    <tr>\n",
       "      <th>8</th>\n",
       "      <td>Grail Insights</td>\n",
       "      <td>5d</td>\n",
       "      <td>4.2</td>\n",
       "    </tr>\n",
       "    <tr>\n",
       "      <th>9</th>\n",
       "      <td>IBM</td>\n",
       "      <td>23d</td>\n",
       "      <td>4.1</td>\n",
       "    </tr>\n",
       "  </tbody>\n",
       "</table>\n",
       "</div>"
      ],
      "text/plain": [
       "                             Company_Name No. of days ago when job was posted  \\\n",
       "0  AlgoScale Technologies Private Limited                                 19d   \n",
       "1    Liberin Technologies Private Limited                                30d+   \n",
       "2                              Noisy Lion                                  4d   \n",
       "3            Salasar New Age Technologies                                30d+   \n",
       "4                                Lenskart                                  6d   \n",
       "5                                Techlive                                30d+   \n",
       "6                          Grail Insights                                  5d   \n",
       "7            Salasar New Age Technologies                                30d+   \n",
       "8                          Grail Insights                                  5d   \n",
       "9                                     IBM                                 23d   \n",
       "\n",
       "  Rating of the Company  \n",
       "0                   3.9  \n",
       "1                   3.9  \n",
       "2                   3.6  \n",
       "3                   3.5  \n",
       "4                   3.5  \n",
       "5                   3.9  \n",
       "6                   3.8  \n",
       "7                   3.3  \n",
       "8                   4.2  \n",
       "9                   4.1  "
      ]
     },
     "execution_count": 80,
     "metadata": {},
     "output_type": "execute_result"
    }
   ],
   "source": [
    "Glass=pd.DataFrame({})\n",
    "Glass[\"Company_Name\"]=company_name2[0:10]\n",
    "Glass[\"No. of days ago when job was posted\"]=NOD[0:10]\n",
    "Glass[\"Rating of the Company\"]=ratings_1[0:10]\n",
    "Glass"
   ]
  },
  {
   "cell_type": "markdown",
   "metadata": {},
   "source": []
  },
  {
   "cell_type": "code",
   "execution_count": null,
   "metadata": {},
   "outputs": [],
   "source": []
  }
 ],
 "metadata": {
  "kernelspec": {
   "display_name": "Python 3",
   "language": "python",
   "name": "python3"
  },
  "language_info": {
   "codemirror_mode": {
    "name": "ipython",
    "version": 3
   },
   "file_extension": ".py",
   "mimetype": "text/x-python",
   "name": "python",
   "nbconvert_exporter": "python",
   "pygments_lexer": "ipython3",
   "version": "3.8.5"
  }
 },
 "nbformat": 4,
 "nbformat_minor": 4
}
